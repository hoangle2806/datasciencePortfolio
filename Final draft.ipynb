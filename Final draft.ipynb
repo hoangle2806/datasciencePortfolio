{
 "cells": [
  {
   "cell_type": "markdown",
   "metadata": {},
   "source": [
    "# Why do I present this project ?"
   ]
  },
  {
   "cell_type": "markdown",
   "metadata": {},
   "source": [
    "There're several reasons:\n",
    "1. This is a real-life problem. Data as raw as it could be\n",
    "2. This will be an end-to-end project including: extract data, down size data, clean up, process language, and prediction model."
   ]
  },
  {
   "cell_type": "code",
   "execution_count": 22,
   "metadata": {
    "collapsed": true
   },
   "outputs": [],
   "source": [
    "import os\n",
    "import json\n",
    "import pandas as pd\n",
    "import codecs"
   ]
  },
  {
   "cell_type": "markdown",
   "metadata": {},
   "source": [
    "# Extracting data"
   ]
  },
  {
   "cell_type": "markdown",
   "metadata": {},
   "source": [
    "The first step of this project is to extract data from json format and export in pandas dataframe format."
   ]
  },
  {
   "cell_type": "code",
   "execution_count": null,
   "metadata": {
    "collapsed": false
   },
   "outputs": [],
   "source": [
    "\n"
   ]
  },
  {
   "cell_type": "code",
   "execution_count": 16,
   "metadata": {
    "collapsed": false
   },
   "outputs": [],
   "source": [
    "review_only_filepath = os.path.join(data_directory,\n",
    "                                    'yelp_academic_dataset_review.json')\n",
    "\n",
    "data_directory = 'yelp_dataset_challenge_round9'\n",
    "businesses_filepath = os.path.join(data_directory, 'yelp_academic_dataset_business.json')\n"
   ]
  },
  {
   "cell_type": "code",
   "execution_count": 17,
   "metadata": {
    "collapsed": false
   },
   "outputs": [
    {
     "name": "stdout",
     "output_type": "stream",
     "text": [
      "48485  total restaurants in the dataset.\n"
     ]
    }
   ],
   "source": [
    "restaurant_id = set()\n",
    "\n",
    "with open(businesses_filepath) as f:\n",
    "    for line in f:\n",
    "        business = json.loads(line)\n",
    "        #there's case the business is None\n",
    "        if business['categories'] is not None and 'Restaurants' in business['categories']:\n",
    "            restaurant_id.add(business['business_id'])\n",
    "            \n",
    "\n",
    "print '{}'.format(len(restaurant_id)), \" total restaurants in the dataset.\""
   ]
  },
  {
   "cell_type": "code",
   "execution_count": 18,
   "metadata": {
    "collapsed": true
   },
   "outputs": [],
   "source": [
    "#getting into the habits that export file every modification make alonng the way\n",
    "intermediate_directory = 'intermediate'\n",
    "restaurant_review_text_filepath = os.path.join(intermediate_directory,'restaurant_review_name.txt')"
   ]
  },
  {
   "cell_type": "code",
   "execution_count": 31,
   "metadata": {
    "collapsed": false
   },
   "outputs": [
    {
     "name": "stdout",
     "output_type": "stream",
     "text": [
      "Done grouping text\n",
      "CPU times: user 1min 48s, sys: 4.46 s, total: 1min 52s\n",
      "Wall time: 2min 4s\n"
     ]
    }
   ],
   "source": [
    "%%time\n",
    "\n",
    "if True:\n",
    "    with codecs.open(restaurant_review_text_filepath,'w', encoding = 'utf_8') as res_review:\n",
    "        with codecs.open(review_only_filepath,encoding = 'utf_8') as review_only_file:\n",
    "            for line in review_only_file:\n",
    "                review = json.loads(line)\n",
    "                if review['business_id'] not in restaurant_id:\n",
    "                    continue\n",
    "                text = review['text'].encode('utf-8')\n",
    "                res_review.write(str(review['business_id'])+ '\\t' +review['text'].replace('\\n', '\\\\n')+ \n",
    "                                 '\\t'+ str(review['stars']) + '\\n')\n",
    "    print \"Done grouping text\"\n",
    "else: \n",
    "    with open(restaurant_review_text_filepath) as review_txt_file:\n",
    "        #means that there's a file already existed. \n",
    "        pass\n",
    "        \n",
    "    print \"Already created\""
   ]
  },
  {
   "cell_type": "code",
   "execution_count": 32,
   "metadata": {
    "collapsed": false
   },
   "outputs": [
    {
     "data": {
      "text/html": [
       "<div>\n",
       "<style>\n",
       "    .dataframe thead tr:only-child th {\n",
       "        text-align: right;\n",
       "    }\n",
       "\n",
       "    .dataframe thead th {\n",
       "        text-align: left;\n",
       "    }\n",
       "\n",
       "    .dataframe tbody tr th {\n",
       "        vertical-align: top;\n",
       "    }\n",
       "</style>\n",
       "<table border=\"1\" class=\"dataframe\">\n",
       "  <thead>\n",
       "    <tr style=\"text-align: right;\">\n",
       "      <th></th>\n",
       "      <th>business</th>\n",
       "      <th>reviews</th>\n",
       "      <th>rating</th>\n",
       "    </tr>\n",
       "  </thead>\n",
       "  <tbody>\n",
       "    <tr>\n",
       "      <th>0</th>\n",
       "      <td>4P-vTvE6cncJyUyLh73pxw</td>\n",
       "      <td>This place is a area staple! Been around for y...</td>\n",
       "      <td>4.0</td>\n",
       "    </tr>\n",
       "    <tr>\n",
       "      <th>1</th>\n",
       "      <td>4P-vTvE6cncJyUyLh73pxw</td>\n",
       "      <td>Got my mojo back after having a few of their a...</td>\n",
       "      <td>4.0</td>\n",
       "    </tr>\n",
       "    <tr>\n",
       "      <th>2</th>\n",
       "      <td>4P-vTvE6cncJyUyLh73pxw</td>\n",
       "      <td>Don't go here for the decor, but the staff is ...</td>\n",
       "      <td>4.0</td>\n",
       "    </tr>\n",
       "    <tr>\n",
       "      <th>3</th>\n",
       "      <td>4P-vTvE6cncJyUyLh73pxw</td>\n",
       "      <td>I believe in awarding stars bearing in mind th...</td>\n",
       "      <td>5.0</td>\n",
       "    </tr>\n",
       "    <tr>\n",
       "      <th>4</th>\n",
       "      <td>4P-vTvE6cncJyUyLh73pxw</td>\n",
       "      <td>If you like fried food and laid back, then thi...</td>\n",
       "      <td>4.0</td>\n",
       "    </tr>\n",
       "  </tbody>\n",
       "</table>\n",
       "</div>"
      ],
      "text/plain": [
       "                 business                                            reviews  \\\n",
       "0  4P-vTvE6cncJyUyLh73pxw  This place is a area staple! Been around for y...   \n",
       "1  4P-vTvE6cncJyUyLh73pxw  Got my mojo back after having a few of their a...   \n",
       "2  4P-vTvE6cncJyUyLh73pxw  Don't go here for the decor, but the staff is ...   \n",
       "3  4P-vTvE6cncJyUyLh73pxw  I believe in awarding stars bearing in mind th...   \n",
       "4  4P-vTvE6cncJyUyLh73pxw  If you like fried food and laid back, then thi...   \n",
       "\n",
       "   rating  \n",
       "0     4.0  \n",
       "1     4.0  \n",
       "2     4.0  \n",
       "3     5.0  \n",
       "4     4.0  "
      ]
     },
     "execution_count": 32,
     "metadata": {},
     "output_type": "execute_result"
    }
   ],
   "source": [
    "df = pd.read_csv(restaurant_review_text_filepath, sep = '\\t',names = ['business', 'reviews', 'rating'])\n",
    "df.head()"
   ]
  },
  {
   "cell_type": "code",
   "execution_count": 33,
   "metadata": {
    "collapsed": false
   },
   "outputs": [
    {
     "name": "stdout",
     "output_type": "stream",
     "text": [
      "Number of row in data frame 2578790\n"
     ]
    }
   ],
   "source": [
    "print \"Number of row in data frame {}\".format(df.shape[0])"
   ]
  },
  {
   "cell_type": "markdown",
   "metadata": {},
   "source": [
    "Because there're 2 million rows in the data set. It's too big for my computer, so I only used 10% of data to demonstrate the project. "
   ]
  },
  {
   "cell_type": "code",
   "execution_count": 34,
   "metadata": {
    "collapsed": false
   },
   "outputs": [
    {
     "data": {
      "text/html": [
       "<div>\n",
       "<style>\n",
       "    .dataframe thead tr:only-child th {\n",
       "        text-align: right;\n",
       "    }\n",
       "\n",
       "    .dataframe thead th {\n",
       "        text-align: left;\n",
       "    }\n",
       "\n",
       "    .dataframe tbody tr th {\n",
       "        vertical-align: top;\n",
       "    }\n",
       "</style>\n",
       "<table border=\"1\" class=\"dataframe\">\n",
       "  <thead>\n",
       "    <tr style=\"text-align: right;\">\n",
       "      <th></th>\n",
       "      <th>business</th>\n",
       "      <th>reviews</th>\n",
       "      <th>rating</th>\n",
       "    </tr>\n",
       "  </thead>\n",
       "  <tbody>\n",
       "    <tr>\n",
       "      <th>2287541</th>\n",
       "      <td>Gaq3S9lmjXVcuDCZ8ulppw</td>\n",
       "      <td>I wasn't really impressed with this sushi join...</td>\n",
       "      <td>3.0</td>\n",
       "    </tr>\n",
       "    <tr>\n",
       "      <th>2087268</th>\n",
       "      <td>ZX9eujPNUxqWEWYdr4Ulqg</td>\n",
       "      <td>Wow! What a treat. Started off with a cup of t...</td>\n",
       "      <td>5.0</td>\n",
       "    </tr>\n",
       "    <tr>\n",
       "      <th>1369363</th>\n",
       "      <td>SZEFE5hL7aN5nM-A44iPwQ</td>\n",
       "      <td>Gorgeous and romantic interiors.  Spectacular ...</td>\n",
       "      <td>5.0</td>\n",
       "    </tr>\n",
       "    <tr>\n",
       "      <th>1545381</th>\n",
       "      <td>7KkgMcbVaetryW1wwpzvvA</td>\n",
       "      <td>I  had the Tuesday special - coconut shrimp ta...</td>\n",
       "      <td>3.0</td>\n",
       "    </tr>\n",
       "    <tr>\n",
       "      <th>1112117</th>\n",
       "      <td>Xra1TtWtf069Am5hHWs3Ug</td>\n",
       "      <td>Seriously good Italian food! Though the dining...</td>\n",
       "      <td>5.0</td>\n",
       "    </tr>\n",
       "  </tbody>\n",
       "</table>\n",
       "</div>"
      ],
      "text/plain": [
       "                       business  \\\n",
       "2287541  Gaq3S9lmjXVcuDCZ8ulppw   \n",
       "2087268  ZX9eujPNUxqWEWYdr4Ulqg   \n",
       "1369363  SZEFE5hL7aN5nM-A44iPwQ   \n",
       "1545381  7KkgMcbVaetryW1wwpzvvA   \n",
       "1112117  Xra1TtWtf069Am5hHWs3Ug   \n",
       "\n",
       "                                                   reviews  rating  \n",
       "2287541  I wasn't really impressed with this sushi join...     3.0  \n",
       "2087268  Wow! What a treat. Started off with a cup of t...     5.0  \n",
       "1369363  Gorgeous and romantic interiors.  Spectacular ...     5.0  \n",
       "1545381  I  had the Tuesday special - coconut shrimp ta...     3.0  \n",
       "1112117  Seriously good Italian food! Though the dining...     5.0  "
      ]
     },
     "execution_count": 34,
     "metadata": {},
     "output_type": "execute_result"
    }
   ],
   "source": [
    "#while sampling the data set, it also randomized the dataframe. \n",
    "temp = df.sample(frac = 0.1)\n",
    "temp.head()"
   ]
  },
  {
   "cell_type": "code",
   "execution_count": 35,
   "metadata": {
    "collapsed": true
   },
   "outputs": [],
   "source": [
    "#export subset of the data\n",
    "export_subset = os.path.join(intermediate_directory,'restaurant_review_name_subset.txt')\n",
    "temp.to_csv(export_subset, header= ['business', 'reviews', 'rating'], index= False)"
   ]
  },
  {
   "cell_type": "markdown",
   "metadata": {},
   "source": [
    " This will end script #1, create another script to load the data and start processing"
   ]
  },
  {
   "cell_type": "markdown",
   "metadata": {},
   "source": [
    "# Data pre-processing"
   ]
  },
  {
   "cell_type": "code",
   "execution_count": 36,
   "metadata": {
    "collapsed": false
   },
   "outputs": [
    {
     "data": {
      "text/html": [
       "<div>\n",
       "<style>\n",
       "    .dataframe thead tr:only-child th {\n",
       "        text-align: right;\n",
       "    }\n",
       "\n",
       "    .dataframe thead th {\n",
       "        text-align: left;\n",
       "    }\n",
       "\n",
       "    .dataframe tbody tr th {\n",
       "        vertical-align: top;\n",
       "    }\n",
       "</style>\n",
       "<table border=\"1\" class=\"dataframe\">\n",
       "  <thead>\n",
       "    <tr style=\"text-align: right;\">\n",
       "      <th></th>\n",
       "      <th>business</th>\n",
       "      <th>reviews</th>\n",
       "      <th>rating</th>\n",
       "    </tr>\n",
       "  </thead>\n",
       "  <tbody>\n",
       "    <tr>\n",
       "      <th>0</th>\n",
       "      <td>Gaq3S9lmjXVcuDCZ8ulppw</td>\n",
       "      <td>I wasn't really impressed with this sushi join...</td>\n",
       "      <td>3.0</td>\n",
       "    </tr>\n",
       "    <tr>\n",
       "      <th>1</th>\n",
       "      <td>ZX9eujPNUxqWEWYdr4Ulqg</td>\n",
       "      <td>Wow! What a treat. Started off with a cup of t...</td>\n",
       "      <td>5.0</td>\n",
       "    </tr>\n",
       "    <tr>\n",
       "      <th>2</th>\n",
       "      <td>SZEFE5hL7aN5nM-A44iPwQ</td>\n",
       "      <td>Gorgeous and romantic interiors.  Spectacular ...</td>\n",
       "      <td>5.0</td>\n",
       "    </tr>\n",
       "    <tr>\n",
       "      <th>3</th>\n",
       "      <td>7KkgMcbVaetryW1wwpzvvA</td>\n",
       "      <td>I  had the Tuesday special - coconut shrimp ta...</td>\n",
       "      <td>3.0</td>\n",
       "    </tr>\n",
       "    <tr>\n",
       "      <th>4</th>\n",
       "      <td>Xra1TtWtf069Am5hHWs3Ug</td>\n",
       "      <td>Seriously good Italian food! Though the dining...</td>\n",
       "      <td>5.0</td>\n",
       "    </tr>\n",
       "  </tbody>\n",
       "</table>\n",
       "</div>"
      ],
      "text/plain": [
       "                 business                                            reviews  \\\n",
       "0  Gaq3S9lmjXVcuDCZ8ulppw  I wasn't really impressed with this sushi join...   \n",
       "1  ZX9eujPNUxqWEWYdr4Ulqg  Wow! What a treat. Started off with a cup of t...   \n",
       "2  SZEFE5hL7aN5nM-A44iPwQ  Gorgeous and romantic interiors.  Spectacular ...   \n",
       "3  7KkgMcbVaetryW1wwpzvvA  I  had the Tuesday special - coconut shrimp ta...   \n",
       "4  Xra1TtWtf069Am5hHWs3Ug  Seriously good Italian food! Though the dining...   \n",
       "\n",
       "   rating  \n",
       "0     3.0  \n",
       "1     5.0  \n",
       "2     5.0  \n",
       "3     3.0  \n",
       "4     5.0  "
      ]
     },
     "execution_count": 36,
     "metadata": {},
     "output_type": "execute_result"
    }
   ],
   "source": [
    "df = pd.read_csv(export_subset)\n",
    "df.head()"
   ]
  },
  {
   "cell_type": "markdown",
   "metadata": {},
   "source": [
    "Because reviews will have numbers, articles, emoji, and punctuation which have no value for the task, so we remove it and lowercase for all of the words"
   ]
  },
  {
   "cell_type": "code",
   "execution_count": 38,
   "metadata": {
    "collapsed": false
   },
   "outputs": [],
   "source": [
    "from string import ascii_lowercase\n",
    "from nltk.corpus import stopwords\n",
    "stop = stopwords.words('english')\n",
    "#created a bigger stopwords library. \n",
    "stop.extend(['may','also','zero','one','two','three','four','five','six','seven','eight',\n",
    "             'nine','ten','across','among','beside','however','yet','within']+list(ascii_lowercase))\n",
    "stop = set(sorted(stop))"
   ]
  },
  {
   "cell_type": "code",
   "execution_count": 47,
   "metadata": {
    "collapsed": true
   },
   "outputs": [],
   "source": [
    "def clean(x):\n",
    "    '''this function will remove all punctuations and numbers'''\n",
    "    #import regular expression library to do string manipulations\n",
    "    import re\n",
    "    temp = str(x)\n",
    "    temp = re.sub('[!\"#%\\'()*+,-./:;<=>?@\\[\\]^_`{|}~1234567890’”“′‘\\\\\\]',' ',temp)\n",
    "    temp = temp.lower().split(\" \")\n",
    "    return ' '.join([ i for i in temp if i not in stop])\n"
   ]
  },
  {
   "cell_type": "code",
   "execution_count": 48,
   "metadata": {
    "collapsed": false
   },
   "outputs": [
    {
     "data": {
      "text/html": [
       "<div>\n",
       "<style>\n",
       "    .dataframe thead tr:only-child th {\n",
       "        text-align: right;\n",
       "    }\n",
       "\n",
       "    .dataframe thead th {\n",
       "        text-align: left;\n",
       "    }\n",
       "\n",
       "    .dataframe tbody tr th {\n",
       "        vertical-align: top;\n",
       "    }\n",
       "</style>\n",
       "<table border=\"1\" class=\"dataframe\">\n",
       "  <thead>\n",
       "    <tr style=\"text-align: right;\">\n",
       "      <th></th>\n",
       "      <th>business</th>\n",
       "      <th>reviews</th>\n",
       "      <th>rating</th>\n",
       "      <th>cleaned_text_data</th>\n",
       "    </tr>\n",
       "  </thead>\n",
       "  <tbody>\n",
       "    <tr>\n",
       "      <th>0</th>\n",
       "      <td>Gaq3S9lmjXVcuDCZ8ulppw</td>\n",
       "      <td>I wasn't really impressed with this sushi join...</td>\n",
       "      <td>3.0</td>\n",
       "      <td>really impressed sushi joint  typical ayce for...</td>\n",
       "    </tr>\n",
       "    <tr>\n",
       "      <th>1</th>\n",
       "      <td>ZX9eujPNUxqWEWYdr4Ulqg</td>\n",
       "      <td>Wow! What a treat. Started off with a cup of t...</td>\n",
       "      <td>5.0</td>\n",
       "      <td>wow  treat  started cup best coffee ever  ask ...</td>\n",
       "    </tr>\n",
       "    <tr>\n",
       "      <th>2</th>\n",
       "      <td>SZEFE5hL7aN5nM-A44iPwQ</td>\n",
       "      <td>Gorgeous and romantic interiors.  Spectacular ...</td>\n",
       "      <td>5.0</td>\n",
       "      <td>gorgeous romantic interiors   spectacular food...</td>\n",
       "    </tr>\n",
       "    <tr>\n",
       "      <th>3</th>\n",
       "      <td>7KkgMcbVaetryW1wwpzvvA</td>\n",
       "      <td>I  had the Tuesday special - coconut shrimp ta...</td>\n",
       "      <td>3.0</td>\n",
       "      <td>tuesday special   coconut shrimp tacos rice b...</td>\n",
       "    </tr>\n",
       "    <tr>\n",
       "      <th>4</th>\n",
       "      <td>Xra1TtWtf069Am5hHWs3Ug</td>\n",
       "      <td>Seriously good Italian food! Though the dining...</td>\n",
       "      <td>5.0</td>\n",
       "      <td>seriously good italian food  though dining roo...</td>\n",
       "    </tr>\n",
       "  </tbody>\n",
       "</table>\n",
       "</div>"
      ],
      "text/plain": [
       "                 business                                            reviews  \\\n",
       "0  Gaq3S9lmjXVcuDCZ8ulppw  I wasn't really impressed with this sushi join...   \n",
       "1  ZX9eujPNUxqWEWYdr4Ulqg  Wow! What a treat. Started off with a cup of t...   \n",
       "2  SZEFE5hL7aN5nM-A44iPwQ  Gorgeous and romantic interiors.  Spectacular ...   \n",
       "3  7KkgMcbVaetryW1wwpzvvA  I  had the Tuesday special - coconut shrimp ta...   \n",
       "4  Xra1TtWtf069Am5hHWs3Ug  Seriously good Italian food! Though the dining...   \n",
       "\n",
       "   rating                                  cleaned_text_data  \n",
       "0     3.0  really impressed sushi joint  typical ayce for...  \n",
       "1     5.0  wow  treat  started cup best coffee ever  ask ...  \n",
       "2     5.0  gorgeous romantic interiors   spectacular food...  \n",
       "3     3.0   tuesday special   coconut shrimp tacos rice b...  \n",
       "4     5.0  seriously good italian food  though dining roo...  "
      ]
     },
     "execution_count": 48,
     "metadata": {},
     "output_type": "execute_result"
    }
   ],
   "source": [
    "#create another colummn for cleaned text\n",
    "df['cleaned_text_data'] = df['reviews'].apply(clean)\n",
    "df.head()"
   ]
  },
  {
   "cell_type": "code",
   "execution_count": 50,
   "metadata": {
    "collapsed": false
   },
   "outputs": [
    {
     "data": {
      "text/html": [
       "<div>\n",
       "<style>\n",
       "    .dataframe thead tr:only-child th {\n",
       "        text-align: right;\n",
       "    }\n",
       "\n",
       "    .dataframe thead th {\n",
       "        text-align: left;\n",
       "    }\n",
       "\n",
       "    .dataframe tbody tr th {\n",
       "        vertical-align: top;\n",
       "    }\n",
       "</style>\n",
       "<table border=\"1\" class=\"dataframe\">\n",
       "  <thead>\n",
       "    <tr style=\"text-align: right;\">\n",
       "      <th></th>\n",
       "      <th>business</th>\n",
       "      <th>reviews</th>\n",
       "      <th>rating</th>\n",
       "      <th>cleaned_text_data</th>\n",
       "      <th>sentiment</th>\n",
       "    </tr>\n",
       "  </thead>\n",
       "  <tbody>\n",
       "    <tr>\n",
       "      <th>0</th>\n",
       "      <td>Gaq3S9lmjXVcuDCZ8ulppw</td>\n",
       "      <td>I wasn't really impressed with this sushi join...</td>\n",
       "      <td>3.0</td>\n",
       "      <td>really impressed sushi joint  typical ayce for...</td>\n",
       "      <td>negative</td>\n",
       "    </tr>\n",
       "    <tr>\n",
       "      <th>1</th>\n",
       "      <td>ZX9eujPNUxqWEWYdr4Ulqg</td>\n",
       "      <td>Wow! What a treat. Started off with a cup of t...</td>\n",
       "      <td>5.0</td>\n",
       "      <td>wow  treat  started cup best coffee ever  ask ...</td>\n",
       "      <td>positive</td>\n",
       "    </tr>\n",
       "    <tr>\n",
       "      <th>2</th>\n",
       "      <td>SZEFE5hL7aN5nM-A44iPwQ</td>\n",
       "      <td>Gorgeous and romantic interiors.  Spectacular ...</td>\n",
       "      <td>5.0</td>\n",
       "      <td>gorgeous romantic interiors   spectacular food...</td>\n",
       "      <td>positive</td>\n",
       "    </tr>\n",
       "    <tr>\n",
       "      <th>3</th>\n",
       "      <td>7KkgMcbVaetryW1wwpzvvA</td>\n",
       "      <td>I  had the Tuesday special - coconut shrimp ta...</td>\n",
       "      <td>3.0</td>\n",
       "      <td>tuesday special   coconut shrimp tacos rice b...</td>\n",
       "      <td>negative</td>\n",
       "    </tr>\n",
       "    <tr>\n",
       "      <th>4</th>\n",
       "      <td>Xra1TtWtf069Am5hHWs3Ug</td>\n",
       "      <td>Seriously good Italian food! Though the dining...</td>\n",
       "      <td>5.0</td>\n",
       "      <td>seriously good italian food  though dining roo...</td>\n",
       "      <td>positive</td>\n",
       "    </tr>\n",
       "  </tbody>\n",
       "</table>\n",
       "</div>"
      ],
      "text/plain": [
       "                 business                                            reviews  \\\n",
       "0  Gaq3S9lmjXVcuDCZ8ulppw  I wasn't really impressed with this sushi join...   \n",
       "1  ZX9eujPNUxqWEWYdr4Ulqg  Wow! What a treat. Started off with a cup of t...   \n",
       "2  SZEFE5hL7aN5nM-A44iPwQ  Gorgeous and romantic interiors.  Spectacular ...   \n",
       "3  7KkgMcbVaetryW1wwpzvvA  I  had the Tuesday special - coconut shrimp ta...   \n",
       "4  Xra1TtWtf069Am5hHWs3Ug  Seriously good Italian food! Though the dining...   \n",
       "\n",
       "   rating                                  cleaned_text_data sentiment  \n",
       "0     3.0  really impressed sushi joint  typical ayce for...  negative  \n",
       "1     5.0  wow  treat  started cup best coffee ever  ask ...  positive  \n",
       "2     5.0  gorgeous romantic interiors   spectacular food...  positive  \n",
       "3     3.0   tuesday special   coconut shrimp tacos rice b...  negative  \n",
       "4     5.0  seriously good italian food  though dining roo...  positive  "
      ]
     },
     "execution_count": 50,
     "metadata": {},
     "output_type": "execute_result"
    }
   ],
   "source": [
    "#convert rating into a number\n",
    "df['rating'] = df['rating'].apply(lambda x: float(x))\n",
    "\n",
    "#sentiment for each review\n",
    "df['sentiment'] = df['rating'].apply(lambda x: 'positive' if x >3 else 'negative')\n",
    "\n",
    "df.head()"
   ]
  },
  {
   "cell_type": "code",
   "execution_count": 69,
   "metadata": {
    "collapsed": false
   },
   "outputs": [
    {
     "name": "stdout",
     "output_type": "stream",
     "text": [
      "Checking numbers of positive and negative in dataframe\n",
      "           business  reviews  rating  cleaned_text_data\n",
      "sentiment                                              \n",
      "negative      90589    90463   90403              90589\n",
      "positive      90589    90589   90589              90589\n"
     ]
    }
   ],
   "source": [
    "#seperate positive and negative \n",
    "positive_text = df[df['sentiment'] ==  'positive']\n",
    "negative_text = df[df['sentiment'] ==  'negative']\n",
    "\n",
    "#keep positive : negative ration to be 1:1\n",
    "pos_negative_ratio = len(negative_text)/float(len(positive_text))\n",
    "temp = positive_text.sample(frac = pos_negative_ratio)\n",
    "small_df = pd.concat([negative_text,temp])\n",
    "\n",
    "#re-randomize data after concatenation. \n",
    "for _ in range(100):\n",
    "    small_df = small_df.sample(frac = 1)\n",
    "print \"Checking numbers of positive and negative in dataframe\"\n",
    "print small_df.groupby('sentiment').count()\n",
    "\n",
    "#split data into test set and train set\n",
    "from sklearn.model_selection import train_test_split\n",
    "x_train, x_test, y_train, y_test = train_test_split(small_df['cleaned_text_data'],small_df['sentiment'], test_size =0.3)"
   ]
  },
  {
   "cell_type": "markdown",
   "metadata": {},
   "source": [
    "# Choose machine learning model"
   ]
  },
  {
   "cell_type": "code",
   "execution_count": 70,
   "metadata": {
    "collapsed": true
   },
   "outputs": [],
   "source": [
    "from sklearn.feature_extraction.text import CountVectorizer\n",
    "from sklearn.linear_model import LogisticRegression\n",
    "from sklearn.pipeline import Pipeline\n",
    "from sklearn import metrics"
   ]
  },
  {
   "cell_type": "code",
   "execution_count": null,
   "metadata": {
    "collapsed": true
   },
   "outputs": [],
   "source": []
  },
  {
   "cell_type": "code",
   "execution_count": 76,
   "metadata": {
    "collapsed": false
   },
   "outputs": [
    {
     "name": "stdout",
     "output_type": "stream",
     "text": [
      "             precision    recall  f1-score   support\n",
      "\n",
      "   negative       0.87      0.85      0.86     27158\n",
      "   positive       0.85      0.87      0.86     27196\n",
      "\n",
      "avg / total       0.86      0.86      0.86     54354\n",
      "\n",
      "CPU times: user 2min 21s, sys: 2.67 s, total: 2min 24s\n",
      "Wall time: 44.5 s\n"
     ]
    }
   ],
   "source": [
    "%%time\n",
    "text_clf = Pipeline([('vect', CountVectorizer(decode_error = 'ignore')),\n",
    "                     ('clf', LogisticRegression(n_jobs = 7))\n",
    "                    ])\n",
    "text_clf.fit(x_train,y_train)\n",
    "predicted = text_clf.predict(x_test)\n",
    "\n",
    "print metrics.classification_report(y_test,predicted)\n"
   ]
  },
  {
   "cell_type": "markdown",
   "metadata": {},
   "source": [
    "# Conclusion"
   ]
  },
  {
   "cell_type": "markdown",
   "metadata": {},
   "source": [
    "The model only achieve 80% precision. It's better than randomly guessing. Need to refine hyperparameters and parameters. Need to run on the entire dataset. "
   ]
  },
  {
   "cell_type": "code",
   "execution_count": null,
   "metadata": {
    "collapsed": true
   },
   "outputs": [],
   "source": []
  }
 ],
 "metadata": {
  "kernelspec": {
   "display_name": "Python [conda root]",
   "language": "python",
   "name": "conda-root-py"
  },
  "language_info": {
   "codemirror_mode": {
    "name": "ipython",
    "version": 2
   },
   "file_extension": ".py",
   "mimetype": "text/x-python",
   "name": "python",
   "nbconvert_exporter": "python",
   "pygments_lexer": "ipython2",
   "version": "2.7.12"
  }
 },
 "nbformat": 4,
 "nbformat_minor": 1
}
