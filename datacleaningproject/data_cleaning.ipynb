{
 "cells": [
  {
   "cell_type": "code",
   "execution_count": 4,
   "metadata": {
    "collapsed": false
   },
   "outputs": [],
   "source": [
    "import glob\n",
    "files = glob.glob(\"rawdataset/*\")"
   ]
  },
  {
   "cell_type": "code",
   "execution_count": 41,
   "metadata": {
    "collapsed": false
   },
   "outputs": [],
   "source": [
    "import pandas as pd\n",
    "\n",
    "data = {}\n",
    "for i in files:\n",
    "    temp = pd.read_csv(i)\n",
    "    data[i.replace(\".csv\",\"\")] = temp"
   ]
  },
  {
   "cell_type": "code",
   "execution_count": 42,
   "metadata": {
    "collapsed": false
   },
   "outputs": [
    {
     "name": "stdout",
     "output_type": "stream",
     "text": [
      "\n",
      "rawdataset/quarterly_apt_vacancy\n",
      "\n",
      "      Date Vacancy Rate\n",
      "0  Q1 1999         6.4%\n",
      "1  Q2 1999         4.1%\n",
      "2  Q3 1999         3.3%\n",
      "3  Q4 1999         2.7%\n",
      "4  Q1 2000         2.4%\n",
      "\n",
      "rawdataset/monthly_home_prices\n",
      "\n",
      "     Date Single Family Home Condo/Townhome\n",
      "0  Jan-00           $407,250       $235,000\n",
      "1  Feb-00           $424,980       $254,450\n",
      "2  Mar-00           $429,975       $259,950\n",
      "3  Apr-00           $435,000       $279,950\n",
      "4  May-00           $449,999       $269,950\n",
      "\n",
      "rawdataset/PublishAffordablehousing9212016 (1)\n",
      "\n",
      "   #                  Development Name                           Address  \\\n",
      "0  1                  101 San Fernando    101 E.San Fernando St, Ste 100   \n",
      "1  2  127 and 110 #22 Roundtable - NSP  110, bldg 22, 127 Roundtable Dr.   \n",
      "2  3                         1713 Ross                  1713 Ross Circle   \n",
      "3  4                         1726 Ross                  1726 Ross Circle   \n",
      "4  5                         1731 Ross                  1731 Ross Circle   \n",
      "\n",
      "                                    Property Website     Management Company  \\\n",
      "0  http://www.essexapartmenthomes.com/apartment/1...       Essex Properties   \n",
      "1                            http://streetsteam.org/  Downtown Streets Team   \n",
      "2                      http://www.abodeservices.org/         Abode Services   \n",
      "3                      http://www.abodeservices.org/         Abode Services   \n",
      "4                      http://www.abodeservices.org/         Abode Services   \n",
      "\n",
      "   Public Phone #  \n",
      "0  (866) 700-0404  \n",
      "1  (408) 899-7350  \n",
      "2  (408) 941-1850  \n",
      "3  (408) 941-1850  \n",
      "4  (408) 941-1850  \n",
      "\n",
      "rawdataset/PublishAffordablehousing9212016 (2)\n",
      "\n",
      "   #        Development Name               Address  \\\n",
      "0  1          Arbor Terraces       2760 McKee Road   \n",
      "1  2  Avenida Espana Gardens         181 Rawls Ct.   \n",
      "2  3     Belovida Apartments     1777 Newbury Park   \n",
      "3  4     Brooks House Senior   655 Richmond Avenue   \n",
      "4  5         Cambrian Center  2360 Samaritan Place   \n",
      "\n",
      "                                    Property Website  \\\n",
      "0         http://www.caremgt.com/arbor-terraces.html   \n",
      "1    http://jsco.net/property/avenida-espaa-gardens/   \n",
      "2                http://www.belovidanewburypark.com/   \n",
      "3  http://www.corpforbetterhousing.com/county_san...   \n",
      "4                     http://www.cambriancenter.org/   \n",
      "\n",
      "                Management Company  Public Phone #  \n",
      "0  CA Real Estate Management Corp.  (408) 251-7570  \n",
      "1             John Stewart Company  (408) 972-5529  \n",
      "2                 EAH Housing Inc.  (877) 264-2669  \n",
      "3    CBH Property Management, Inc.  (408) 288-6108  \n",
      "4    Eden Housing Management, Inc.  (408) 559-0330  \n",
      "\n",
      "rawdataset/quarterly_apt_rent\n",
      "\n",
      "      Date  Average  1 bed / 1 ba  2 bed / 2 ba\n",
      "0  Q1 1999     1208          1098          1453\n",
      "1  Q2 1999     1215          1101          1464\n",
      "2  Q3 1999     1242          1135          1487\n",
      "3  Q4 1999     1264          1153          1514\n",
      "4  Q1 2000     1298          1180          1556\n"
     ]
    }
   ],
   "source": [
    "for key, values in data.items():\n",
    "    print \"\\n\" + key + \"\\n\"\n",
    "    print values.head()"
   ]
  },
  {
   "cell_type": "code",
   "execution_count": 43,
   "metadata": {
    "collapsed": false
   },
   "outputs": [
    {
     "data": {
      "text/html": [
       "<div>\n",
       "<table border=\"1\" class=\"dataframe\">\n",
       "  <thead>\n",
       "    <tr style=\"text-align: right;\">\n",
       "      <th></th>\n",
       "      <th>Date</th>\n",
       "      <th>Single Family Home</th>\n",
       "      <th>Condo/Townhome</th>\n",
       "    </tr>\n",
       "  </thead>\n",
       "  <tbody>\n",
       "    <tr>\n",
       "      <th>0</th>\n",
       "      <td>Jan-00</td>\n",
       "      <td>$407,250</td>\n",
       "      <td>$235,000</td>\n",
       "    </tr>\n",
       "    <tr>\n",
       "      <th>1</th>\n",
       "      <td>Feb-00</td>\n",
       "      <td>$424,980</td>\n",
       "      <td>$254,450</td>\n",
       "    </tr>\n",
       "    <tr>\n",
       "      <th>2</th>\n",
       "      <td>Mar-00</td>\n",
       "      <td>$429,975</td>\n",
       "      <td>$259,950</td>\n",
       "    </tr>\n",
       "    <tr>\n",
       "      <th>3</th>\n",
       "      <td>Apr-00</td>\n",
       "      <td>$435,000</td>\n",
       "      <td>$279,950</td>\n",
       "    </tr>\n",
       "    <tr>\n",
       "      <th>4</th>\n",
       "      <td>May-00</td>\n",
       "      <td>$449,999</td>\n",
       "      <td>$269,950</td>\n",
       "    </tr>\n",
       "  </tbody>\n",
       "</table>\n",
       "</div>"
      ],
      "text/plain": [
       "     Date Single Family Home Condo/Townhome\n",
       "0  Jan-00           $407,250       $235,000\n",
       "1  Feb-00           $424,980       $254,450\n",
       "2  Mar-00           $429,975       $259,950\n",
       "3  Apr-00           $435,000       $279,950\n",
       "4  May-00           $449,999       $269,950"
      ]
     },
     "execution_count": 43,
     "metadata": {},
     "output_type": "execute_result"
    }
   ],
   "source": [
    "monthy_home_prices = data['rawdataset/monthly_home_prices']\n",
    "monthy_home_prices.head()"
   ]
  },
  {
   "cell_type": "code",
   "execution_count": 85,
   "metadata": {
    "collapsed": false
   },
   "outputs": [
    {
     "data": {
      "text/html": [
       "<div>\n",
       "<table border=\"1\" class=\"dataframe\">\n",
       "  <thead>\n",
       "    <tr style=\"text-align: right;\">\n",
       "      <th></th>\n",
       "      <th>Date</th>\n",
       "      <th>Single Family Home</th>\n",
       "      <th>Condo/Townhome</th>\n",
       "      <th>Quarter</th>\n",
       "    </tr>\n",
       "  </thead>\n",
       "  <tbody>\n",
       "    <tr>\n",
       "      <th>0</th>\n",
       "      <td>Jan-00</td>\n",
       "      <td>$407,250</td>\n",
       "      <td>$235,000</td>\n",
       "      <td>Q1 2000</td>\n",
       "    </tr>\n",
       "    <tr>\n",
       "      <th>1</th>\n",
       "      <td>Feb-00</td>\n",
       "      <td>$424,980</td>\n",
       "      <td>$254,450</td>\n",
       "      <td>Q1 2000</td>\n",
       "    </tr>\n",
       "    <tr>\n",
       "      <th>2</th>\n",
       "      <td>Mar-00</td>\n",
       "      <td>$429,975</td>\n",
       "      <td>$259,950</td>\n",
       "      <td>Q1 2000</td>\n",
       "    </tr>\n",
       "    <tr>\n",
       "      <th>3</th>\n",
       "      <td>Apr-00</td>\n",
       "      <td>$435,000</td>\n",
       "      <td>$279,950</td>\n",
       "      <td>Q2 2000</td>\n",
       "    </tr>\n",
       "    <tr>\n",
       "      <th>4</th>\n",
       "      <td>May-00</td>\n",
       "      <td>$449,999</td>\n",
       "      <td>$269,950</td>\n",
       "      <td>Q2 2000</td>\n",
       "    </tr>\n",
       "  </tbody>\n",
       "</table>\n",
       "</div>"
      ],
      "text/plain": [
       "     Date Single Family Home Condo/Townhome  Quarter\n",
       "0  Jan-00           $407,250       $235,000  Q1 2000\n",
       "1  Feb-00           $424,980       $254,450  Q1 2000\n",
       "2  Mar-00           $429,975       $259,950  Q1 2000\n",
       "3  Apr-00           $435,000       $279,950  Q2 2000\n",
       "4  May-00           $449,999       $269,950  Q2 2000"
      ]
     },
     "execution_count": 85,
     "metadata": {},
     "output_type": "execute_result"
    }
   ],
   "source": [
    "def convert_to_quarter(x):\n",
    "    if x[0].isdigit():\n",
    "        month = x[-3:]\n",
    "        if \"-\" in x[:2]:\n",
    "            year = x[0]\n",
    "        else:\n",
    "            year = x[:2]\n",
    "    else:\n",
    "        month,year = x[:3],x[4:]\n",
    "    if month in [\"Jan\", \"Feb\",'Mar']:\n",
    "        return \"Q1 200\" + year\n",
    "    if month in [\"Apr\",\"May\",\"Jun\"]:\n",
    "        return \"Q2 200\" + year\n",
    "    if month in [\"Jul\", \"Aug\", \"Sep\"]:\n",
    "        return \"Q3 200\" + year\n",
    "    return \"Q4 200\" + year\n",
    "\n",
    "def pretty_year(x):\n",
    "    temp =x.split(\" \")\n",
    "    if len(temp[1]) > 4:\n",
    "        return temp[0]+ \" \" +temp[1].replace(\"0\", \"\",1)\n",
    "    return x\n",
    "\n",
    "monthy_home_prices[\"Quarter\"] = monthy_home_prices['Date'].apply(convert_to_quarter)\n",
    "monthy_home_prices[\"Quarter\"] = monthy_home_prices[\"Quarter\"].apply(pretty_year)\n",
    "monthy_home_prices.head()\n"
   ]
  },
  {
   "cell_type": "code",
   "execution_count": 86,
   "metadata": {
    "collapsed": false
   },
   "outputs": [
    {
     "data": {
      "text/html": [
       "<div>\n",
       "<table border=\"1\" class=\"dataframe\">\n",
       "  <thead>\n",
       "    <tr style=\"text-align: right;\">\n",
       "      <th></th>\n",
       "      <th>Date</th>\n",
       "      <th>Single Family Home</th>\n",
       "      <th>Condo/Townhome</th>\n",
       "      <th>Quarter</th>\n",
       "    </tr>\n",
       "  </thead>\n",
       "  <tbody>\n",
       "    <tr>\n",
       "      <th>0</th>\n",
       "      <td>Jan-00</td>\n",
       "      <td>$407,250</td>\n",
       "      <td>$235,000</td>\n",
       "      <td>Q1 2000</td>\n",
       "    </tr>\n",
       "    <tr>\n",
       "      <th>1</th>\n",
       "      <td>Feb-00</td>\n",
       "      <td>$424,980</td>\n",
       "      <td>$254,450</td>\n",
       "      <td>Q1 2000</td>\n",
       "    </tr>\n",
       "    <tr>\n",
       "      <th>2</th>\n",
       "      <td>Mar-00</td>\n",
       "      <td>$429,975</td>\n",
       "      <td>$259,950</td>\n",
       "      <td>Q1 2000</td>\n",
       "    </tr>\n",
       "    <tr>\n",
       "      <th>3</th>\n",
       "      <td>Apr-00</td>\n",
       "      <td>$435,000</td>\n",
       "      <td>$279,950</td>\n",
       "      <td>Q2 2000</td>\n",
       "    </tr>\n",
       "    <tr>\n",
       "      <th>4</th>\n",
       "      <td>May-00</td>\n",
       "      <td>$449,999</td>\n",
       "      <td>$269,950</td>\n",
       "      <td>Q2 2000</td>\n",
       "    </tr>\n",
       "  </tbody>\n",
       "</table>\n",
       "</div>"
      ],
      "text/plain": [
       "     Date Single Family Home Condo/Townhome  Quarter\n",
       "0  Jan-00           $407,250       $235,000  Q1 2000\n",
       "1  Feb-00           $424,980       $254,450  Q1 2000\n",
       "2  Mar-00           $429,975       $259,950  Q1 2000\n",
       "3  Apr-00           $435,000       $279,950  Q2 2000\n",
       "4  May-00           $449,999       $269,950  Q2 2000"
      ]
     },
     "execution_count": 86,
     "metadata": {},
     "output_type": "execute_result"
    }
   ],
   "source": [
    "monthy_home_prices.drop(['Date'], axis = 1)\n",
    "monthy_home_prices.head()"
   ]
  },
  {
   "cell_type": "code",
   "execution_count": 87,
   "metadata": {
    "collapsed": false
   },
   "outputs": [],
   "source": [
    "temp = monthy_home_prices[['Single Family Home','Condo/Townhome']].replace('[$,]',\"\",regex = True).astype(float)\n",
    "temp[\"Quarter\"] = monthy_home_prices['Quarter']"
   ]
  },
  {
   "cell_type": "code",
   "execution_count": 88,
   "metadata": {
    "collapsed": false
   },
   "outputs": [
    {
     "data": {
      "text/html": [
       "<div>\n",
       "<table border=\"1\" class=\"dataframe\">\n",
       "  <thead>\n",
       "    <tr style=\"text-align: right;\">\n",
       "      <th></th>\n",
       "      <th>Single Family Home</th>\n",
       "      <th>Condo/Townhome</th>\n",
       "      <th>Quarter</th>\n",
       "    </tr>\n",
       "  </thead>\n",
       "  <tbody>\n",
       "    <tr>\n",
       "      <th>0</th>\n",
       "      <td>407250.0</td>\n",
       "      <td>235000.0</td>\n",
       "      <td>Q1 2000</td>\n",
       "    </tr>\n",
       "    <tr>\n",
       "      <th>1</th>\n",
       "      <td>424980.0</td>\n",
       "      <td>254450.0</td>\n",
       "      <td>Q1 2000</td>\n",
       "    </tr>\n",
       "    <tr>\n",
       "      <th>2</th>\n",
       "      <td>429975.0</td>\n",
       "      <td>259950.0</td>\n",
       "      <td>Q1 2000</td>\n",
       "    </tr>\n",
       "    <tr>\n",
       "      <th>3</th>\n",
       "      <td>435000.0</td>\n",
       "      <td>279950.0</td>\n",
       "      <td>Q2 2000</td>\n",
       "    </tr>\n",
       "    <tr>\n",
       "      <th>4</th>\n",
       "      <td>449999.0</td>\n",
       "      <td>269950.0</td>\n",
       "      <td>Q2 2000</td>\n",
       "    </tr>\n",
       "  </tbody>\n",
       "</table>\n",
       "</div>"
      ],
      "text/plain": [
       "   Single Family Home  Condo/Townhome  Quarter\n",
       "0            407250.0        235000.0  Q1 2000\n",
       "1            424980.0        254450.0  Q1 2000\n",
       "2            429975.0        259950.0  Q1 2000\n",
       "3            435000.0        279950.0  Q2 2000\n",
       "4            449999.0        269950.0  Q2 2000"
      ]
     },
     "execution_count": 88,
     "metadata": {},
     "output_type": "execute_result"
    }
   ],
   "source": [
    "temp.head()"
   ]
  },
  {
   "cell_type": "code",
   "execution_count": 90,
   "metadata": {
    "collapsed": false
   },
   "outputs": [],
   "source": [
    "processed_monthy_home_prices = temp.groupby(['Quarter']).mean()"
   ]
  },
  {
   "cell_type": "code",
   "execution_count": 92,
   "metadata": {
    "collapsed": false
   },
   "outputs": [
    {
     "data": {
      "text/html": [
       "<div>\n",
       "<table border=\"1\" class=\"dataframe\">\n",
       "  <thead>\n",
       "    <tr style=\"text-align: right;\">\n",
       "      <th></th>\n",
       "      <th>Date</th>\n",
       "      <th>Vacancy Rate</th>\n",
       "    </tr>\n",
       "  </thead>\n",
       "  <tbody>\n",
       "    <tr>\n",
       "      <th>0</th>\n",
       "      <td>Q1 1999</td>\n",
       "      <td>6.4%</td>\n",
       "    </tr>\n",
       "    <tr>\n",
       "      <th>1</th>\n",
       "      <td>Q2 1999</td>\n",
       "      <td>4.1%</td>\n",
       "    </tr>\n",
       "    <tr>\n",
       "      <th>2</th>\n",
       "      <td>Q3 1999</td>\n",
       "      <td>3.3%</td>\n",
       "    </tr>\n",
       "    <tr>\n",
       "      <th>3</th>\n",
       "      <td>Q4 1999</td>\n",
       "      <td>2.7%</td>\n",
       "    </tr>\n",
       "    <tr>\n",
       "      <th>4</th>\n",
       "      <td>Q1 2000</td>\n",
       "      <td>2.4%</td>\n",
       "    </tr>\n",
       "    <tr>\n",
       "      <th>5</th>\n",
       "      <td>Q2 2000</td>\n",
       "      <td>0.7%</td>\n",
       "    </tr>\n",
       "    <tr>\n",
       "      <th>6</th>\n",
       "      <td>Q3 2000</td>\n",
       "      <td>1.3%</td>\n",
       "    </tr>\n",
       "    <tr>\n",
       "      <th>7</th>\n",
       "      <td>Q4 2000</td>\n",
       "      <td>1.5%</td>\n",
       "    </tr>\n",
       "    <tr>\n",
       "      <th>8</th>\n",
       "      <td>Q1 2001</td>\n",
       "      <td>2.3%</td>\n",
       "    </tr>\n",
       "    <tr>\n",
       "      <th>9</th>\n",
       "      <td>Q2 2001</td>\n",
       "      <td>5.1%</td>\n",
       "    </tr>\n",
       "    <tr>\n",
       "      <th>10</th>\n",
       "      <td>Q3 2001</td>\n",
       "      <td>6.7%</td>\n",
       "    </tr>\n",
       "    <tr>\n",
       "      <th>11</th>\n",
       "      <td>Q4 2001</td>\n",
       "      <td>7.9%</td>\n",
       "    </tr>\n",
       "    <tr>\n",
       "      <th>12</th>\n",
       "      <td>Q1 2002</td>\n",
       "      <td>8.2%</td>\n",
       "    </tr>\n",
       "    <tr>\n",
       "      <th>13</th>\n",
       "      <td>Q2 2002</td>\n",
       "      <td>8.2%</td>\n",
       "    </tr>\n",
       "    <tr>\n",
       "      <th>14</th>\n",
       "      <td>Q3 2002</td>\n",
       "      <td>7.3%</td>\n",
       "    </tr>\n",
       "    <tr>\n",
       "      <th>15</th>\n",
       "      <td>Q4 2002</td>\n",
       "      <td>7.5%</td>\n",
       "    </tr>\n",
       "    <tr>\n",
       "      <th>16</th>\n",
       "      <td>Q1 2003</td>\n",
       "      <td>7.1%</td>\n",
       "    </tr>\n",
       "    <tr>\n",
       "      <th>17</th>\n",
       "      <td>Q2 2003</td>\n",
       "      <td>8.1%</td>\n",
       "    </tr>\n",
       "    <tr>\n",
       "      <th>18</th>\n",
       "      <td>Q3 2003</td>\n",
       "      <td>8.7%</td>\n",
       "    </tr>\n",
       "    <tr>\n",
       "      <th>19</th>\n",
       "      <td>Q4 2003</td>\n",
       "      <td>8.8%</td>\n",
       "    </tr>\n",
       "  </tbody>\n",
       "</table>\n",
       "</div>"
      ],
      "text/plain": [
       "       Date Vacancy Rate\n",
       "0   Q1 1999         6.4%\n",
       "1   Q2 1999         4.1%\n",
       "2   Q3 1999         3.3%\n",
       "3   Q4 1999         2.7%\n",
       "4   Q1 2000         2.4%\n",
       "5   Q2 2000         0.7%\n",
       "6   Q3 2000         1.3%\n",
       "7   Q4 2000         1.5%\n",
       "8   Q1 2001         2.3%\n",
       "9   Q2 2001         5.1%\n",
       "10  Q3 2001         6.7%\n",
       "11  Q4 2001         7.9%\n",
       "12  Q1 2002         8.2%\n",
       "13  Q2 2002         8.2%\n",
       "14  Q3 2002         7.3%\n",
       "15  Q4 2002         7.5%\n",
       "16  Q1 2003         7.1%\n",
       "17  Q2 2003         8.1%\n",
       "18  Q3 2003         8.7%\n",
       "19  Q4 2003         8.8%"
      ]
     },
     "execution_count": 92,
     "metadata": {},
     "output_type": "execute_result"
    }
   ],
   "source": [
    "quarterly_apt_vacancy = data['rawdataset/quarterly_apt_vacancy']\n",
    "quarterly_apt_vacancy.head(20)"
   ]
  },
  {
   "cell_type": "code",
   "execution_count": 93,
   "metadata": {
    "collapsed": false
   },
   "outputs": [
    {
     "data": {
      "text/plain": [
       "(70, 2)"
      ]
     },
     "execution_count": 93,
     "metadata": {},
     "output_type": "execute_result"
    }
   ],
   "source": [
    "quarterly_apt_vacancy.shape"
   ]
  },
  {
   "cell_type": "code",
   "execution_count": 103,
   "metadata": {
    "collapsed": false
   },
   "outputs": [
    {
     "data": {
      "text/html": [
       "<div>\n",
       "<table border=\"1\" class=\"dataframe\">\n",
       "  <thead>\n",
       "    <tr style=\"text-align: right;\">\n",
       "      <th></th>\n",
       "      <th>Quarter</th>\n",
       "      <th>Vacancy Rate</th>\n",
       "    </tr>\n",
       "  </thead>\n",
       "  <tbody>\n",
       "    <tr>\n",
       "      <th>0</th>\n",
       "      <td>Q1 1999</td>\n",
       "      <td>6.4%</td>\n",
       "    </tr>\n",
       "    <tr>\n",
       "      <th>1</th>\n",
       "      <td>Q2 1999</td>\n",
       "      <td>4.1%</td>\n",
       "    </tr>\n",
       "    <tr>\n",
       "      <th>2</th>\n",
       "      <td>Q3 1999</td>\n",
       "      <td>3.3%</td>\n",
       "    </tr>\n",
       "    <tr>\n",
       "      <th>3</th>\n",
       "      <td>Q4 1999</td>\n",
       "      <td>2.7%</td>\n",
       "    </tr>\n",
       "    <tr>\n",
       "      <th>4</th>\n",
       "      <td>Q1 2000</td>\n",
       "      <td>2.4%</td>\n",
       "    </tr>\n",
       "  </tbody>\n",
       "</table>\n",
       "</div>"
      ],
      "text/plain": [
       "   Quarter Vacancy Rate\n",
       "0  Q1 1999         6.4%\n",
       "1  Q2 1999         4.1%\n",
       "2  Q3 1999         3.3%\n",
       "3  Q4 1999         2.7%\n",
       "4  Q1 2000         2.4%"
      ]
     },
     "execution_count": 103,
     "metadata": {},
     "output_type": "execute_result"
    }
   ],
   "source": [
    "quarterly_apt_vacancy= quarterly_apt_vacancy.rename(columns={\"Date\" : \"Quarter\"})\n",
    "quarterly_apt_vacancy.head()"
   ]
  },
  {
   "cell_type": "code",
   "execution_count": 112,
   "metadata": {
    "collapsed": false
   },
   "outputs": [],
   "source": [
    "\n",
    "\n",
    "processed_monthy_home_prices = processed_monthy_home_prices.reset_index()"
   ]
  },
  {
   "cell_type": "code",
   "execution_count": 113,
   "metadata": {
    "collapsed": false
   },
   "outputs": [
    {
     "data": {
      "text/html": [
       "<div>\n",
       "<table border=\"1\" class=\"dataframe\">\n",
       "  <thead>\n",
       "    <tr style=\"text-align: right;\">\n",
       "      <th></th>\n",
       "      <th>Quarter</th>\n",
       "      <th>Vacancy Rate</th>\n",
       "      <th>Single Family Home</th>\n",
       "      <th>Condo/Townhome</th>\n",
       "    </tr>\n",
       "  </thead>\n",
       "  <tbody>\n",
       "    <tr>\n",
       "      <th>0</th>\n",
       "      <td>Q1 2000</td>\n",
       "      <td>2.4%</td>\n",
       "      <td>420735.000000</td>\n",
       "      <td>249800.000000</td>\n",
       "    </tr>\n",
       "    <tr>\n",
       "      <th>1</th>\n",
       "      <td>Q2 2000</td>\n",
       "      <td>0.7%</td>\n",
       "      <td>448306.000000</td>\n",
       "      <td>279596.000000</td>\n",
       "    </tr>\n",
       "    <tr>\n",
       "      <th>2</th>\n",
       "      <td>Q3 2000</td>\n",
       "      <td>1.3%</td>\n",
       "      <td>460641.666667</td>\n",
       "      <td>289666.666667</td>\n",
       "    </tr>\n",
       "    <tr>\n",
       "      <th>3</th>\n",
       "      <td>Q4 2000</td>\n",
       "      <td>1.5%</td>\n",
       "      <td>491000.000000</td>\n",
       "      <td>306300.000000</td>\n",
       "    </tr>\n",
       "    <tr>\n",
       "      <th>4</th>\n",
       "      <td>Q1 2001</td>\n",
       "      <td>2.3%</td>\n",
       "      <td>499681.333333</td>\n",
       "      <td>322466.666667</td>\n",
       "    </tr>\n",
       "  </tbody>\n",
       "</table>\n",
       "</div>"
      ],
      "text/plain": [
       "   Quarter Vacancy Rate  Single Family Home  Condo/Townhome\n",
       "0  Q1 2000         2.4%       420735.000000   249800.000000\n",
       "1  Q2 2000         0.7%       448306.000000   279596.000000\n",
       "2  Q3 2000         1.3%       460641.666667   289666.666667\n",
       "3  Q4 2000         1.5%       491000.000000   306300.000000\n",
       "4  Q1 2001         2.3%       499681.333333   322466.666667"
      ]
     },
     "execution_count": 113,
     "metadata": {},
     "output_type": "execute_result"
    }
   ],
   "source": [
    "#only choose quarter from 2000 to 2015, eliminate 1999 and 2016\n",
    "temp = quarterly_apt_vacancy.merge(processed_monthy_home_prices, how = 'inner', on = \"Quarter\")\n",
    "temp.head()"
   ]
  },
  {
   "cell_type": "code",
   "execution_count": 117,
   "metadata": {
    "collapsed": false
   },
   "outputs": [
    {
     "data": {
      "text/html": [
       "<div>\n",
       "<table border=\"1\" class=\"dataframe\">\n",
       "  <thead>\n",
       "    <tr style=\"text-align: right;\">\n",
       "      <th></th>\n",
       "      <th>Quarter</th>\n",
       "      <th>Vacancy Rate</th>\n",
       "      <th>Single Family Home</th>\n",
       "      <th>Condo/Townhome</th>\n",
       "    </tr>\n",
       "  </thead>\n",
       "  <tbody>\n",
       "    <tr>\n",
       "      <th>0</th>\n",
       "      <td>Q1 2000</td>\n",
       "      <td>0.024</td>\n",
       "      <td>420735.000000</td>\n",
       "      <td>249800.000000</td>\n",
       "    </tr>\n",
       "    <tr>\n",
       "      <th>1</th>\n",
       "      <td>Q2 2000</td>\n",
       "      <td>0.007</td>\n",
       "      <td>448306.000000</td>\n",
       "      <td>279596.000000</td>\n",
       "    </tr>\n",
       "    <tr>\n",
       "      <th>2</th>\n",
       "      <td>Q3 2000</td>\n",
       "      <td>0.013</td>\n",
       "      <td>460641.666667</td>\n",
       "      <td>289666.666667</td>\n",
       "    </tr>\n",
       "    <tr>\n",
       "      <th>3</th>\n",
       "      <td>Q4 2000</td>\n",
       "      <td>0.015</td>\n",
       "      <td>491000.000000</td>\n",
       "      <td>306300.000000</td>\n",
       "    </tr>\n",
       "    <tr>\n",
       "      <th>4</th>\n",
       "      <td>Q1 2001</td>\n",
       "      <td>0.023</td>\n",
       "      <td>499681.333333</td>\n",
       "      <td>322466.666667</td>\n",
       "    </tr>\n",
       "  </tbody>\n",
       "</table>\n",
       "</div>"
      ],
      "text/plain": [
       "   Quarter  Vacancy Rate  Single Family Home  Condo/Townhome\n",
       "0  Q1 2000         0.024       420735.000000   249800.000000\n",
       "1  Q2 2000         0.007       448306.000000   279596.000000\n",
       "2  Q3 2000         0.013       460641.666667   289666.666667\n",
       "3  Q4 2000         0.015       491000.000000   306300.000000\n",
       "4  Q1 2001         0.023       499681.333333   322466.666667"
      ]
     },
     "execution_count": 117,
     "metadata": {},
     "output_type": "execute_result"
    }
   ],
   "source": [
    "def replace_percentage(x):\n",
    "    if type(x) is str:\n",
    "        x = x.replace(\"%\",\"\")\n",
    "    return float(x)/100\n",
    "\n",
    "temp['Vacancy Rate'] = temp['Vacancy Rate'].apply(replace_percentage)\n",
    "temp.head()"
   ]
  },
  {
   "cell_type": "code",
   "execution_count": 118,
   "metadata": {
    "collapsed": false
   },
   "outputs": [
    {
     "data": {
      "text/html": [
       "<div>\n",
       "<table border=\"1\" class=\"dataframe\">\n",
       "  <thead>\n",
       "    <tr style=\"text-align: right;\">\n",
       "      <th></th>\n",
       "      <th>Date</th>\n",
       "      <th>Average</th>\n",
       "      <th>1 bed / 1 ba</th>\n",
       "      <th>2 bed / 2 ba</th>\n",
       "    </tr>\n",
       "  </thead>\n",
       "  <tbody>\n",
       "    <tr>\n",
       "      <th>0</th>\n",
       "      <td>Q1 1999</td>\n",
       "      <td>1208</td>\n",
       "      <td>1098</td>\n",
       "      <td>1453</td>\n",
       "    </tr>\n",
       "    <tr>\n",
       "      <th>1</th>\n",
       "      <td>Q2 1999</td>\n",
       "      <td>1215</td>\n",
       "      <td>1101</td>\n",
       "      <td>1464</td>\n",
       "    </tr>\n",
       "    <tr>\n",
       "      <th>2</th>\n",
       "      <td>Q3 1999</td>\n",
       "      <td>1242</td>\n",
       "      <td>1135</td>\n",
       "      <td>1487</td>\n",
       "    </tr>\n",
       "    <tr>\n",
       "      <th>3</th>\n",
       "      <td>Q4 1999</td>\n",
       "      <td>1264</td>\n",
       "      <td>1153</td>\n",
       "      <td>1514</td>\n",
       "    </tr>\n",
       "    <tr>\n",
       "      <th>4</th>\n",
       "      <td>Q1 2000</td>\n",
       "      <td>1298</td>\n",
       "      <td>1180</td>\n",
       "      <td>1556</td>\n",
       "    </tr>\n",
       "  </tbody>\n",
       "</table>\n",
       "</div>"
      ],
      "text/plain": [
       "      Date  Average  1 bed / 1 ba  2 bed / 2 ba\n",
       "0  Q1 1999     1208          1098          1453\n",
       "1  Q2 1999     1215          1101          1464\n",
       "2  Q3 1999     1242          1135          1487\n",
       "3  Q4 1999     1264          1153          1514\n",
       "4  Q1 2000     1298          1180          1556"
      ]
     },
     "execution_count": 118,
     "metadata": {},
     "output_type": "execute_result"
    }
   ],
   "source": [
    "quarterly_apt_rent = data['rawdataset/quarterly_apt_rent']\n",
    "quarterly_apt_rent.head()"
   ]
  },
  {
   "cell_type": "code",
   "execution_count": 119,
   "metadata": {
    "collapsed": false
   },
   "outputs": [
    {
     "data": {
      "text/html": [
       "<div>\n",
       "<table border=\"1\" class=\"dataframe\">\n",
       "  <thead>\n",
       "    <tr style=\"text-align: right;\">\n",
       "      <th></th>\n",
       "      <th>Quarter</th>\n",
       "      <th>Vacancy Rate</th>\n",
       "      <th>Single Family Home</th>\n",
       "      <th>Condo/Townhome</th>\n",
       "      <th>Average</th>\n",
       "      <th>1 bed / 1 ba</th>\n",
       "      <th>2 bed / 2 ba</th>\n",
       "    </tr>\n",
       "  </thead>\n",
       "  <tbody>\n",
       "    <tr>\n",
       "      <th>0</th>\n",
       "      <td>Q1 2000</td>\n",
       "      <td>0.024</td>\n",
       "      <td>420735.000000</td>\n",
       "      <td>249800.000000</td>\n",
       "      <td>1298</td>\n",
       "      <td>1180</td>\n",
       "      <td>1556</td>\n",
       "    </tr>\n",
       "    <tr>\n",
       "      <th>1</th>\n",
       "      <td>Q2 2000</td>\n",
       "      <td>0.007</td>\n",
       "      <td>448306.000000</td>\n",
       "      <td>279596.000000</td>\n",
       "      <td>1588</td>\n",
       "      <td>1450</td>\n",
       "      <td>1895</td>\n",
       "    </tr>\n",
       "    <tr>\n",
       "      <th>2</th>\n",
       "      <td>Q3 2000</td>\n",
       "      <td>0.013</td>\n",
       "      <td>460641.666667</td>\n",
       "      <td>289666.666667</td>\n",
       "      <td>1760</td>\n",
       "      <td>1628</td>\n",
       "      <td>2091</td>\n",
       "    </tr>\n",
       "    <tr>\n",
       "      <th>3</th>\n",
       "      <td>Q4 2000</td>\n",
       "      <td>0.015</td>\n",
       "      <td>491000.000000</td>\n",
       "      <td>306300.000000</td>\n",
       "      <td>1806</td>\n",
       "      <td>1679</td>\n",
       "      <td>2115</td>\n",
       "    </tr>\n",
       "    <tr>\n",
       "      <th>4</th>\n",
       "      <td>Q1 2001</td>\n",
       "      <td>0.023</td>\n",
       "      <td>499681.333333</td>\n",
       "      <td>322466.666667</td>\n",
       "      <td>1833</td>\n",
       "      <td>1704</td>\n",
       "      <td>2133</td>\n",
       "    </tr>\n",
       "  </tbody>\n",
       "</table>\n",
       "</div>"
      ],
      "text/plain": [
       "   Quarter  Vacancy Rate  Single Family Home  Condo/Townhome  Average  \\\n",
       "0  Q1 2000         0.024       420735.000000   249800.000000     1298   \n",
       "1  Q2 2000         0.007       448306.000000   279596.000000     1588   \n",
       "2  Q3 2000         0.013       460641.666667   289666.666667     1760   \n",
       "3  Q4 2000         0.015       491000.000000   306300.000000     1806   \n",
       "4  Q1 2001         0.023       499681.333333   322466.666667     1833   \n",
       "\n",
       "   1 bed / 1 ba  2 bed / 2 ba  \n",
       "0          1180          1556  \n",
       "1          1450          1895  \n",
       "2          1628          2091  \n",
       "3          1679          2115  \n",
       "4          1704          2133  "
      ]
     },
     "execution_count": 119,
     "metadata": {},
     "output_type": "execute_result"
    }
   ],
   "source": [
    "quarterly_apt_rent = quarterly_apt_rent.rename(columns={'Date':'Quarter'})\n",
    "temp = temp.merge(quarterly_apt_rent, how='inner',on = 'Quarter')\n",
    "temp.head()"
   ]
  },
  {
   "cell_type": "code",
   "execution_count": 120,
   "metadata": {
    "collapsed": false
   },
   "outputs": [
    {
     "data": {
      "text/html": [
       "<div>\n",
       "<table border=\"1\" class=\"dataframe\">\n",
       "  <thead>\n",
       "    <tr style=\"text-align: right;\">\n",
       "      <th></th>\n",
       "      <th>Quarter</th>\n",
       "      <th>Vacancy Rate</th>\n",
       "      <th>Single Family Home</th>\n",
       "      <th>Condo/Townhome</th>\n",
       "      <th>Apt rent average</th>\n",
       "      <th>1 bed / 1 ba</th>\n",
       "      <th>2 bed / 2 ba</th>\n",
       "    </tr>\n",
       "  </thead>\n",
       "  <tbody>\n",
       "    <tr>\n",
       "      <th>0</th>\n",
       "      <td>Q1 2000</td>\n",
       "      <td>0.024</td>\n",
       "      <td>420735.000000</td>\n",
       "      <td>249800.000000</td>\n",
       "      <td>1298</td>\n",
       "      <td>1180</td>\n",
       "      <td>1556</td>\n",
       "    </tr>\n",
       "    <tr>\n",
       "      <th>1</th>\n",
       "      <td>Q2 2000</td>\n",
       "      <td>0.007</td>\n",
       "      <td>448306.000000</td>\n",
       "      <td>279596.000000</td>\n",
       "      <td>1588</td>\n",
       "      <td>1450</td>\n",
       "      <td>1895</td>\n",
       "    </tr>\n",
       "    <tr>\n",
       "      <th>2</th>\n",
       "      <td>Q3 2000</td>\n",
       "      <td>0.013</td>\n",
       "      <td>460641.666667</td>\n",
       "      <td>289666.666667</td>\n",
       "      <td>1760</td>\n",
       "      <td>1628</td>\n",
       "      <td>2091</td>\n",
       "    </tr>\n",
       "    <tr>\n",
       "      <th>3</th>\n",
       "      <td>Q4 2000</td>\n",
       "      <td>0.015</td>\n",
       "      <td>491000.000000</td>\n",
       "      <td>306300.000000</td>\n",
       "      <td>1806</td>\n",
       "      <td>1679</td>\n",
       "      <td>2115</td>\n",
       "    </tr>\n",
       "    <tr>\n",
       "      <th>4</th>\n",
       "      <td>Q1 2001</td>\n",
       "      <td>0.023</td>\n",
       "      <td>499681.333333</td>\n",
       "      <td>322466.666667</td>\n",
       "      <td>1833</td>\n",
       "      <td>1704</td>\n",
       "      <td>2133</td>\n",
       "    </tr>\n",
       "  </tbody>\n",
       "</table>\n",
       "</div>"
      ],
      "text/plain": [
       "   Quarter  Vacancy Rate  Single Family Home  Condo/Townhome  \\\n",
       "0  Q1 2000         0.024       420735.000000   249800.000000   \n",
       "1  Q2 2000         0.007       448306.000000   279596.000000   \n",
       "2  Q3 2000         0.013       460641.666667   289666.666667   \n",
       "3  Q4 2000         0.015       491000.000000   306300.000000   \n",
       "4  Q1 2001         0.023       499681.333333   322466.666667   \n",
       "\n",
       "   Apt rent average  1 bed / 1 ba  2 bed / 2 ba  \n",
       "0              1298          1180          1556  \n",
       "1              1588          1450          1895  \n",
       "2              1760          1628          2091  \n",
       "3              1806          1679          2115  \n",
       "4              1833          1704          2133  "
      ]
     },
     "execution_count": 120,
     "metadata": {},
     "output_type": "execute_result"
    }
   ],
   "source": [
    "processed_dataset= temp.rename(columns={\"Average\":\"Apt rent average\"})\n",
    "processed_dataset.head()"
   ]
  },
  {
   "cell_type": "code",
   "execution_count": 121,
   "metadata": {
    "collapsed": false
   },
   "outputs": [
    {
     "data": {
      "text/html": [
       "<div>\n",
       "<table border=\"1\" class=\"dataframe\">\n",
       "  <thead>\n",
       "    <tr style=\"text-align: right;\">\n",
       "      <th></th>\n",
       "      <th>Vacancy Rate</th>\n",
       "      <th>Single Family Home</th>\n",
       "      <th>Condo/Townhome</th>\n",
       "      <th>Apt rent average</th>\n",
       "      <th>1 bed / 1 ba</th>\n",
       "      <th>2 bed / 2 ba</th>\n",
       "    </tr>\n",
       "  </thead>\n",
       "  <tbody>\n",
       "    <tr>\n",
       "      <th>Vacancy Rate</th>\n",
       "      <td>1.000000</td>\n",
       "      <td>-0.037457</td>\n",
       "      <td>0.000160</td>\n",
       "      <td>-0.257008</td>\n",
       "      <td>-0.264386</td>\n",
       "      <td>-0.274367</td>\n",
       "    </tr>\n",
       "    <tr>\n",
       "      <th>Single Family Home</th>\n",
       "      <td>-0.037457</td>\n",
       "      <td>1.000000</td>\n",
       "      <td>0.968449</td>\n",
       "      <td>0.559361</td>\n",
       "      <td>0.542469</td>\n",
       "      <td>0.543047</td>\n",
       "    </tr>\n",
       "    <tr>\n",
       "      <th>Condo/Townhome</th>\n",
       "      <td>0.000160</td>\n",
       "      <td>0.968449</td>\n",
       "      <td>1.000000</td>\n",
       "      <td>0.444930</td>\n",
       "      <td>0.435519</td>\n",
       "      <td>0.429029</td>\n",
       "    </tr>\n",
       "    <tr>\n",
       "      <th>Apt rent average</th>\n",
       "      <td>-0.257008</td>\n",
       "      <td>0.559361</td>\n",
       "      <td>0.444930</td>\n",
       "      <td>1.000000</td>\n",
       "      <td>0.998514</td>\n",
       "      <td>0.998756</td>\n",
       "    </tr>\n",
       "    <tr>\n",
       "      <th>1 bed / 1 ba</th>\n",
       "      <td>-0.264386</td>\n",
       "      <td>0.542469</td>\n",
       "      <td>0.435519</td>\n",
       "      <td>0.998514</td>\n",
       "      <td>1.000000</td>\n",
       "      <td>0.998208</td>\n",
       "    </tr>\n",
       "    <tr>\n",
       "      <th>2 bed / 2 ba</th>\n",
       "      <td>-0.274367</td>\n",
       "      <td>0.543047</td>\n",
       "      <td>0.429029</td>\n",
       "      <td>0.998756</td>\n",
       "      <td>0.998208</td>\n",
       "      <td>1.000000</td>\n",
       "    </tr>\n",
       "  </tbody>\n",
       "</table>\n",
       "</div>"
      ],
      "text/plain": [
       "                    Vacancy Rate  Single Family Home  Condo/Townhome  \\\n",
       "Vacancy Rate            1.000000           -0.037457        0.000160   \n",
       "Single Family Home     -0.037457            1.000000        0.968449   \n",
       "Condo/Townhome          0.000160            0.968449        1.000000   \n",
       "Apt rent average       -0.257008            0.559361        0.444930   \n",
       "1 bed / 1 ba           -0.264386            0.542469        0.435519   \n",
       "2 bed / 2 ba           -0.274367            0.543047        0.429029   \n",
       "\n",
       "                    Apt rent average  1 bed / 1 ba  2 bed / 2 ba  \n",
       "Vacancy Rate               -0.257008     -0.264386     -0.274367  \n",
       "Single Family Home          0.559361      0.542469      0.543047  \n",
       "Condo/Townhome              0.444930      0.435519      0.429029  \n",
       "Apt rent average            1.000000      0.998514      0.998756  \n",
       "1 bed / 1 ba                0.998514      1.000000      0.998208  \n",
       "2 bed / 2 ba                0.998756      0.998208      1.000000  "
      ]
     },
     "execution_count": 121,
     "metadata": {},
     "output_type": "execute_result"
    }
   ],
   "source": [
    "#correlation between data, the clore to the one, the more related 2 columns is\n",
    "processed_dataset.corr()"
   ]
  },
  {
   "cell_type": "code",
   "execution_count": 122,
   "metadata": {
    "collapsed": false
   },
   "outputs": [
    {
     "data": {
      "text/plain": [
       "<matplotlib.image.AxesImage at 0x7f21ea95e490>"
      ]
     },
     "execution_count": 122,
     "metadata": {},
     "output_type": "execute_result"
    },
    {
     "data": {
      "image/png": "[encoded data removed]",
      "text/plain": [
       "<matplotlib.figure.Figure at 0x7f21ef52b410>"
      ]
     },
     "metadata": {},
     "output_type": "display_data"
    }
   ],
   "source": [
    "import matplotlib.pyplot as plt\n",
    "%matplotlib inline\n",
    "\n",
    "plt.matshow(processed_dataset.corr())"
   ]
  },
  {
   "cell_type": "code",
   "execution_count": 124,
   "metadata": {
    "collapsed": false
   },
   "outputs": [
    {
     "data": {
      "text/plain": [
       "array([[<matplotlib.axes._subplots.AxesSubplot object at 0x7f21e2aed090>,\n",
       "        <matplotlib.axes._subplots.AxesSubplot object at 0x7f21e2a28650>,\n",
       "        <matplotlib.axes._subplots.AxesSubplot object at 0x7f21e2a63e50>,\n",
       "        <matplotlib.axes._subplots.AxesSubplot object at 0x7f21e11c8610>,\n",
       "        <matplotlib.axes._subplots.AxesSubplot object at 0x7f21e1149510>,\n",
       "        <matplotlib.axes._subplots.AxesSubplot object at 0x7f21e115d090>],\n",
       "       [<matplotlib.axes._subplots.AxesSubplot object at 0x7f21ea18c390>,\n",
       "        <matplotlib.axes._subplots.AxesSubplot object at 0x7f21e108aad0>,\n",
       "        <matplotlib.axes._subplots.AxesSubplot object at 0x7f21e0fed8d0>,\n",
       "        <matplotlib.axes._subplots.AxesSubplot object at 0x7f21e0f709d0>,\n",
       "        <matplotlib.axes._subplots.AxesSubplot object at 0x7f21e1011310>,\n",
       "        <matplotlib.axes._subplots.AxesSubplot object at 0x7f21e0e5f8d0>],\n",
       "       [<matplotlib.axes._subplots.AxesSubplot object at 0x7f21e0de3750>,\n",
       "        <matplotlib.axes._subplots.AxesSubplot object at 0x7f21e0dc5e10>,\n",
       "        <matplotlib.axes._subplots.AxesSubplot object at 0x7f21e0d49c90>,\n",
       "        <matplotlib.axes._subplots.AxesSubplot object at 0x7f21e0cafcd0>,\n",
       "        <matplotlib.axes._subplots.AxesSubplot object at 0x7f21e0c31c50>,\n",
       "        <matplotlib.axes._subplots.AxesSubplot object at 0x7f21e0c3ff90>],\n",
       "       [<matplotlib.axes._subplots.AxesSubplot object at 0x7f21e0b23ad0>,\n",
       "        <matplotlib.axes._subplots.AxesSubplot object at 0x7f21e0aa7950>,\n",
       "        <matplotlib.axes._subplots.AxesSubplot object at 0x7f21e0a8aa90>,\n",
       "        <matplotlib.axes._subplots.AxesSubplot object at 0x7f21e0a0d910>,\n",
       "        <matplotlib.axes._subplots.AxesSubplot object at 0x7f21e0976610>,\n",
       "        <matplotlib.axes._subplots.AxesSubplot object at 0x7f21e0902710>],\n",
       "       [<matplotlib.axes._subplots.AxesSubplot object at 0x7f21e0883590>,\n",
       "        <matplotlib.axes._subplots.AxesSubplot object at 0x7f21e07e7fd0>,\n",
       "        <matplotlib.axes._subplots.AxesSubplot object at 0x7f21e076ae50>,\n",
       "        <matplotlib.axes._subplots.AxesSubplot object at 0x7f21e074fe90>,\n",
       "        <matplotlib.axes._subplots.AxesSubplot object at 0x7f21e06d0e10>,\n",
       "        <matplotlib.axes._subplots.AxesSubplot object at 0x7f21e068de50>],\n",
       "       [<matplotlib.axes._subplots.AxesSubplot object at 0x7f21e05c3bd0>,\n",
       "        <matplotlib.axes._subplots.AxesSubplot object at 0x7f21e0547a50>,\n",
       "        <matplotlib.axes._subplots.AxesSubplot object at 0x7f21e0516650>,\n",
       "        <matplotlib.axes._subplots.AxesSubplot object at 0x7f21e041b150>,\n",
       "        <matplotlib.axes._subplots.AxesSubplot object at 0x7f21e043d250>,\n",
       "        <matplotlib.axes._subplots.AxesSubplot object at 0x7f21e0317050>]], dtype=object)"
      ]
     },
     "execution_count": 124,
     "metadata": {},
     "output_type": "execute_result"
    },
    {
     "data": {
      "image/png": "[encoded data removed]",
      "text/plain": [
       "<matplotlib.figure.Figure at 0x7f21e2d77f50>"
      ]
     },
     "metadata": {},
     "output_type": "display_data"
    }
   ],
   "source": [
    "from pandas.tools.plotting import scatter_matrix\n",
    "scatter_matrix(processed_dataset, alpha=0.2, figsize=(10, 10), diagonal='kde')"
   ]
  },
  {
   "cell_type": "code",
   "execution_count": 129,
   "metadata": {
    "collapsed": false
   },
   "outputs": [
    {
     "data": {
      "text/plain": [
       "<matplotlib.axes._subplots.AxesSubplot at 0x7f21db8ce150>"
      ]
     },
     "execution_count": 129,
     "metadata": {},
     "output_type": "execute_result"
    },
    {
     "data": {
      "image/png": "[encoded data removed]",
      "text/plain": [
       "<matplotlib.figure.Figure at 0x7f21db8452d0>"
      ]
     },
     "metadata": {},
     "output_type": "display_data"
    }
   ],
   "source": [
    "processed_dataset.plot(x = 'Quarter',y = ['Single Family Home'])"
   ]
  },
  {
   "cell_type": "code",
   "execution_count": 130,
   "metadata": {
    "collapsed": false
   },
   "outputs": [
    {
     "data": {
      "text/plain": [
       "<matplotlib.axes._subplots.AxesSubplot at 0x7f21dbe18090>"
      ]
     },
     "execution_count": 130,
     "metadata": {},
     "output_type": "execute_result"
    },
    {
     "data": {
      "image/png": "[encoded data removed]",
      "text/plain": [
       "<matplotlib.figure.Figure at 0x7f21e0b64250>"
      ]
     },
     "metadata": {},
     "output_type": "display_data"
    }
   ],
   "source": [
    "processed_dataset.plot(x = 'Quarter',y = ['Apt rent average'])"
   ]
  },
  {
   "cell_type": "markdown",
   "metadata": {},
   "source": [
    "Background of the project\n",
    "\n",
    "1. What we learn from this data set ?\n"
   ]
  }
 ],
 "metadata": {
  "anaconda-cloud": {},
  "kernelspec": {
   "display_name": "Python [conda root]",
   "language": "python",
   "name": "conda-root-py"
  },
  "language_info": {
   "codemirror_mode": {
    "name": "ipython",
    "version": 2
   },
   "file_extension": ".py",
   "mimetype": "text/x-python",
   "name": "python",
   "nbconvert_exporter": "python",
   "pygments_lexer": "ipython2",
   "version": "2.7.12"
  }
 },
 "nbformat": 4,
 "nbformat_minor": 1
}
