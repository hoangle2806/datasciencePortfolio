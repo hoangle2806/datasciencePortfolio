{
 "cells": [
  {
   "cell_type": "code",
   "execution_count": 4,
   "metadata": {
    "collapsed": false
   },
   "outputs": [],
   "source": [
    "from keras.preprocessing.image import ImageDataGenerator\n",
    "from keras.models import Sequential\n",
    "from keras.layers import Conv2D, MaxPooling2D\n",
    "from keras.layers import Activation, Dropout, Flatten, Dense\n",
    "from keras import backend as K\n",
    "\n",
    "\n",
    "# dimensions of our images.\n",
    "img_width, img_height = 150, 150\n",
    "\n",
    "train_data_dir = 'subset_data/train'\n",
    "validation_data_dir = 'subset_data/test'\n",
    "nb_train_samples = 2000\n",
    "nb_validation_samples = 800\n",
    "epochs = 50\n",
    "batch_size = 16\n",
    "\n",
    "if K.image_data_format() == 'channels_first':\n",
    "    input_shape = (3, img_width, img_height)\n",
    "else:\n",
    "    input_shape = (img_width, img_height, 3)"
   ]
  },
  {
   "cell_type": "code",
   "execution_count": 5,
   "metadata": {
    "collapsed": true
   },
   "outputs": [],
   "source": [
    "model = Sequential()\n",
    "model.add(Conv2D(32, (3, 3), input_shape=input_shape))\n",
    "model.add(Activation('relu'))\n",
    "model.add(MaxPooling2D(pool_size=(2, 2)))\n",
    "\n",
    "model.add(Conv2D(32, (3, 3)))\n",
    "model.add(Activation('relu'))\n",
    "model.add(MaxPooling2D(pool_size=(2, 2)))\n",
    "\n",
    "model.add(Conv2D(64, (3, 3)))\n",
    "model.add(Activation('relu'))\n",
    "model.add(MaxPooling2D(pool_size=(2, 2)))\n",
    "\n",
    "model.add(Flatten())\n",
    "model.add(Dense(64))\n",
    "model.add(Activation('relu'))\n",
    "model.add(Dropout(0.5))\n",
    "model.add(Dense(1))\n",
    "model.add(Activation('sigmoid'))\n",
    "\n",
    "model.compile(loss='binary_crossentropy',\n",
    "              optimizer='rmsprop',\n",
    "              metrics=['accuracy'])"
   ]
  },
  {
   "cell_type": "code",
   "execution_count": 6,
   "metadata": {
    "collapsed": true
   },
   "outputs": [],
   "source": [
    "# this is the augmentation configuration we will use for training\n",
    "train_datagen = ImageDataGenerator(\n",
    "    rescale=1. / 255,\n",
    "    shear_range=0.2,\n",
    "    zoom_range=0.2,\n",
    "    horizontal_flip=True)"
   ]
  },
  {
   "cell_type": "code",
   "execution_count": 7,
   "metadata": {
    "collapsed": false
   },
   "outputs": [
    {
     "name": "stdout",
     "output_type": "stream",
     "text": [
      "Found 12 images belonging to 2 classes.\n"
     ]
    }
   ],
   "source": [
    "# this is the augmentation configuration we will use for testing:\n",
    "# only rescaling\n",
    "test_datagen = ImageDataGenerator(rescale=1. / 255)\n",
    "\n",
    "train_generator = train_datagen.flow_from_directory(\n",
    "    train_data_dir,\n",
    "    target_size=(img_width, img_height),\n",
    "    batch_size=batch_size,\n",
    "    class_mode='binary')"
   ]
  },
  {
   "cell_type": "code",
   "execution_count": 8,
   "metadata": {
    "collapsed": false
   },
   "outputs": [
    {
     "name": "stdout",
     "output_type": "stream",
     "text": [
      "Found 12 images belonging to 2 classes.\n"
     ]
    }
   ],
   "source": [
    "validation_generator = test_datagen.flow_from_directory(\n",
    "    validation_data_dir,\n",
    "    target_size=(img_width, img_height),\n",
    "    batch_size=batch_size,\n",
    "    class_mode='binary')\n"
   ]
  },
  {
   "cell_type": "code",
   "execution_count": 9,
   "metadata": {
    "collapsed": false
   },
   "outputs": [
    {
     "name": "stdout",
     "output_type": "stream",
     "text": [
      "Epoch 1/50\n",
      "125/125 [==============================] - 36s - loss: 0.2369 - acc: 0.9100 - val_loss: 0.2030 - val_acc: 0.9167\n",
      "Epoch 2/50\n",
      "125/125 [==============================] - 35s - loss: 0.0393 - acc: 0.9893 - val_loss: 0.0968 - val_acc: 0.9167\n",
      "Epoch 3/50\n",
      "125/125 [==============================] - 35s - loss: 0.0499 - acc: 0.9927 - val_loss: 0.2041 - val_acc: 0.9167\n",
      "Epoch 4/50\n",
      "125/125 [==============================] - 32s - loss: 0.0368 - acc: 0.9947 - val_loss: 0.4705 - val_acc: 0.8333\n",
      "Epoch 5/50\n",
      "125/125 [==============================] - 32s - loss: 0.0428 - acc: 0.9933 - val_loss: 0.1479 - val_acc: 0.9167\n",
      "Epoch 6/50\n",
      "125/125 [==============================] - 32s - loss: 0.0051 - acc: 0.9993 - val_loss: 0.2189 - val_acc: 0.9167\n",
      "Epoch 7/50\n",
      "125/125 [==============================] - 32s - loss: 0.0529 - acc: 0.9960 - val_loss: 0.3793 - val_acc: 0.9167\n",
      "Epoch 8/50\n",
      "125/125 [==============================] - 32s - loss: 0.0409 - acc: 0.9960 - val_loss: 0.6327 - val_acc: 0.9167\n",
      "Epoch 9/50\n",
      "125/125 [==============================] - 31s - loss: 0.0099 - acc: 0.9980 - val_loss: 1.1930 - val_acc: 0.6667\n",
      "Epoch 10/50\n",
      "125/125 [==============================] - 31s - loss: 0.0784 - acc: 0.9947 - val_loss: 2.9467 - val_acc: 0.6667\n",
      "Epoch 11/50\n",
      "125/125 [==============================] - 31s - loss: 0.0118 - acc: 0.9973 - val_loss: 2.6571 - val_acc: 0.8333\n",
      "Epoch 12/50\n",
      "125/125 [==============================] - 31s - loss: 0.0146 - acc: 0.9967 - val_loss: 0.0327 - val_acc: 1.0000\n",
      "Epoch 13/50\n",
      "125/125 [==============================] - 31s - loss: 5.5090e-04 - acc: 1.0000 - val_loss: 4.3700 - val_acc: 0.6667\n",
      "Epoch 14/50\n",
      "125/125 [==============================] - 31s - loss: 0.0021 - acc: 0.9993 - val_loss: 1.1588 - val_acc: 0.7500\n",
      "Epoch 15/50\n",
      "125/125 [==============================] - 31s - loss: 2.4246e-05 - acc: 1.0000 - val_loss: 0.7159 - val_acc: 0.8333\n",
      "Epoch 16/50\n",
      "125/125 [==============================] - 31s - loss: 0.0216 - acc: 0.9980 - val_loss: 3.4463 - val_acc: 0.7500\n",
      "Epoch 17/50\n",
      "125/125 [==============================] - 31s - loss: 2.9623e-07 - acc: 1.0000 - val_loss: 0.5019 - val_acc: 0.8333\n",
      "Epoch 18/50\n",
      "125/125 [==============================] - 31s - loss: 0.1377 - acc: 0.9913 - val_loss: 0.9267 - val_acc: 0.8333\n",
      "Epoch 19/50\n",
      "125/125 [==============================] - 32s - loss: 0.0294 - acc: 0.9960 - val_loss: 3.3985 - val_acc: 0.6667\n",
      "Epoch 20/50\n",
      "125/125 [==============================] - 34s - loss: 3.1035e-05 - acc: 1.0000 - val_loss: 1.3387 - val_acc: 0.9167\n",
      "Epoch 21/50\n",
      "125/125 [==============================] - 34s - loss: 1.1726e-07 - acc: 1.0000 - val_loss: 1.3298 - val_acc: 0.9167\n",
      "Epoch 22/50\n",
      "125/125 [==============================] - 34s - loss: 0.3641 - acc: 0.9767 - val_loss: 2.8793 - val_acc: 0.7500\n",
      "Epoch 23/50\n",
      "125/125 [==============================] - 34s - loss: 0.5273 - acc: 0.9667 - val_loss: 2.3230 - val_acc: 0.8333\n",
      "Epoch 24/50\n",
      "125/125 [==============================] - 34s - loss: 0.0148 - acc: 0.9980 - val_loss: 3.1387 - val_acc: 0.6667\n",
      "Epoch 25/50\n",
      "125/125 [==============================] - 34s - loss: 0.0010 - acc: 0.9993 - val_loss: 0.1118 - val_acc: 0.9167\n",
      "Epoch 26/50\n",
      "125/125 [==============================] - 34s - loss: 0.1300 - acc: 0.9913 - val_loss: 1.6607 - val_acc: 0.8333\n",
      "Epoch 27/50\n",
      "125/125 [==============================] - 34s - loss: 1.0870e-04 - acc: 1.0000 - val_loss: 2.2166 - val_acc: 0.7500\n",
      "Epoch 28/50\n",
      "125/125 [==============================] - 35s - loss: 1.5576e-07 - acc: 1.0000 - val_loss: 2.6717 - val_acc: 0.8333\n",
      "Epoch 29/50\n",
      "125/125 [==============================] - 33s - loss: 0.0063 - acc: 0.9993 - val_loss: 2.7403 - val_acc: 0.7500\n",
      "Epoch 30/50\n",
      "125/125 [==============================] - 34s - loss: 1.3734e-07 - acc: 1.0000 - val_loss: 2.9630 - val_acc: 0.7500\n",
      "Epoch 31/50\n",
      "125/125 [==============================] - 33s - loss: 6.3577e-05 - acc: 1.0000 - val_loss: 2.6571 - val_acc: 0.8333\n",
      "Epoch 32/50\n",
      "125/125 [==============================] - 34s - loss: 0.0030 - acc: 0.9987 - val_loss: 1.8751 - val_acc: 0.8333\n",
      "Epoch 33/50\n",
      "125/125 [==============================] - 35s - loss: 0.0045 - acc: 0.9993 - val_loss: 2.8422 - val_acc: 0.7500\n",
      "Epoch 34/50\n",
      "125/125 [==============================] - 34s - loss: 2.1453e-05 - acc: 1.0000 - val_loss: 0.6406 - val_acc: 0.8333\n",
      "Epoch 35/50\n",
      "125/125 [==============================] - 34s - loss: 1.1046e-07 - acc: 1.0000 - val_loss: 0.7641 - val_acc: 0.8333\n",
      "Epoch 36/50\n",
      "125/125 [==============================] - 33s - loss: 1.1114e-07 - acc: 1.0000 - val_loss: 2.9599 - val_acc: 0.7500\n",
      "Epoch 37/50\n",
      "125/125 [==============================] - 31s - loss: 1.0960e-07 - acc: 1.0000 - val_loss: 2.9599 - val_acc: 0.7500\n",
      "Epoch 38/50\n",
      "125/125 [==============================] - 32s - loss: 0.0231 - acc: 0.9980 - val_loss: 2.6571 - val_acc: 0.8333\n",
      "Epoch 39/50\n",
      "125/125 [==============================] - 32s - loss: 1.7091e-07 - acc: 1.0000 - val_loss: 2.6691 - val_acc: 0.8333\n",
      "Epoch 40/50\n",
      "125/125 [==============================] - 32s - loss: 1.0960e-07 - acc: 1.0000 - val_loss: 2.6691 - val_acc: 0.8333\n",
      "Epoch 41/50\n",
      "125/125 [==============================] - 33s - loss: 0.0106 - acc: 0.9993 - val_loss: 4.5880 - val_acc: 0.6667\n",
      "Epoch 42/50\n",
      "125/125 [==============================] - 34s - loss: 1.0992e-07 - acc: 1.0000 - val_loss: 3.8582 - val_acc: 0.6667\n",
      "Epoch 43/50\n",
      "125/125 [==============================] - 34s - loss: 1.0968e-07 - acc: 1.0000 - val_loss: 2.6571 - val_acc: 0.8333\n",
      "Epoch 44/50\n",
      "125/125 [==============================] - 34s - loss: 4.1474e-04 - acc: 1.0000 - val_loss: 2.7915 - val_acc: 0.7500\n",
      "Epoch 45/50\n",
      "125/125 [==============================] - 34s - loss: 1.1000e-07 - acc: 1.0000 - val_loss: 2.7152 - val_acc: 0.8333\n",
      "Epoch 46/50\n",
      "125/125 [==============================] - 34s - loss: 1.0960e-07 - acc: 1.0000 - val_loss: 2.7152 - val_acc: 0.8333\n",
      "Epoch 47/50\n",
      "125/125 [==============================] - 34s - loss: 1.0960e-07 - acc: 1.0000 - val_loss: 2.7152 - val_acc: 0.8333\n",
      "Epoch 48/50\n",
      "125/125 [==============================] - 34s - loss: 1.0960e-07 - acc: 1.0000 - val_loss: 2.7152 - val_acc: 0.8333\n",
      "Epoch 49/50\n",
      "125/125 [==============================] - 34s - loss: 1.0960e-07 - acc: 1.0000 - val_loss: 2.7152 - val_acc: 0.8333\n",
      "Epoch 50/50\n",
      "125/125 [==============================] - 35s - loss: 8.7978e-04 - acc: 0.9993 - val_loss: 4.7541 - val_acc: 0.5833\n"
     ]
    }
   ],
   "source": [
    "model.fit_generator(\n",
    "    train_generator,\n",
    "    steps_per_epoch=nb_train_samples // batch_size,\n",
    "    epochs=epochs,\n",
    "    validation_data=validation_generator,\n",
    "    validation_steps=nb_validation_samples // batch_size)\n",
    "\n",
    "model.save_weights('first_try.h5')"
   ]
  },
  {
   "cell_type": "markdown",
   "metadata": {},
   "source": [
    "# Bottle neck approach\n"
   ]
  },
  {
   "cell_type": "markdown",
   "metadata": {},
   "source": [
    "leverage network pre-trained. Try with VGG16 architecture. "
   ]
  },
  {
   "cell_type": "code",
   "execution_count": 14,
   "metadata": {
    "collapsed": true
   },
   "outputs": [],
   "source": [
    "from keras import applications\n",
    "import numpy as np\n",
    "# dimensions of our images.\n",
    "img_width, img_height = 150, 150\n",
    "\n",
    "top_model_weights_path = 'bottleneck_fc_model.h5'\n",
    "train_data_dir = 'subset_data/train'\n",
    "validation_data_dir = 'subset_data/test'\n",
    "nb_train_samples = 12\n",
    "nb_validation_samples = 12\n",
    "epochs = 25\n",
    "batch_size = 2"
   ]
  },
  {
   "cell_type": "code",
   "execution_count": 15,
   "metadata": {
    "collapsed": true
   },
   "outputs": [],
   "source": [
    "def save_bottlebeck_features():\n",
    "    datagen = ImageDataGenerator(rescale=1. / 255)\n",
    "\n",
    "    # build the VGG16 network\n",
    "    model = applications.VGG16(include_top=False, weights='imagenet')\n",
    "\n",
    "    generator = datagen.flow_from_directory(\n",
    "        train_data_dir,\n",
    "        target_size=(img_width, img_height),\n",
    "        batch_size=batch_size,\n",
    "        class_mode=None,\n",
    "        shuffle=False)\n",
    "    bottleneck_features_train = model.predict_generator(\n",
    "        generator, nb_train_samples // batch_size)\n",
    "    np.save(open('bottleneck_features_train.npy', 'w'),\n",
    "            bottleneck_features_train)\n",
    "\n",
    "    generator = datagen.flow_from_directory(\n",
    "        validation_data_dir,\n",
    "        target_size=(img_width, img_height),\n",
    "        batch_size=batch_size,\n",
    "        class_mode=None,\n",
    "        shuffle=False)\n",
    "    bottleneck_features_validation = model.predict_generator(\n",
    "        generator, nb_validation_samples // batch_size)\n",
    "    np.save(open('bottleneck_features_validation.npy', 'w'),\n",
    "            bottleneck_features_validation)\n"
   ]
  },
  {
   "cell_type": "code",
   "execution_count": 16,
   "metadata": {
    "collapsed": true
   },
   "outputs": [],
   "source": [
    "def train_top_model():\n",
    "    train_data = np.load(open('bottleneck_features_train.npy'))\n",
    "    train_labels = np.array(\n",
    "        [0] * (nb_train_samples / 2) + [1] * (nb_train_samples / 2))\n",
    "\n",
    "    validation_data = np.load(open('bottleneck_features_validation.npy'))\n",
    "    validation_labels = np.array(\n",
    "        [0] * (nb_validation_samples / 2) + [1] * (nb_validation_samples / 2))\n",
    "\n",
    "    model = Sequential()\n",
    "    model.add(Flatten(input_shape=train_data.shape[1:]))\n",
    "    model.add(Dense(256, activation='relu'))\n",
    "    model.add(Dropout(0.5))\n",
    "    model.add(Dense(1, activation='sigmoid'))\n",
    "\n",
    "    model.compile(optimizer='rmsprop',\n",
    "                  loss='binary_crossentropy', metrics=['accuracy'])\n",
    "\n",
    "    model.fit(train_data, train_labels,\n",
    "              epochs=epochs,\n",
    "              batch_size=batch_size,\n",
    "              validation_data=(validation_data, validation_labels))\n",
    "    model.save_weights(top_model_weights_path)"
   ]
  },
  {
   "cell_type": "code",
   "execution_count": 17,
   "metadata": {
    "collapsed": false
   },
   "outputs": [
    {
     "name": "stdout",
     "output_type": "stream",
     "text": [
      "Found 12 images belonging to 2 classes.\n",
      "Found 12 images belonging to 2 classes.\n",
      "Train on 12 samples, validate on 12 samples\n",
      "Epoch 1/25\n",
      "12/12 [==============================] - 0s - loss: 2.3867 - acc: 0.4167 - val_loss: 4.3511 - val_acc: 0.5000\n",
      "Epoch 2/25\n",
      "12/12 [==============================] - 0s - loss: 0.7543 - acc: 0.9167 - val_loss: 0.3924 - val_acc: 0.7500\n",
      "Epoch 3/25\n",
      "12/12 [==============================] - 0s - loss: 0.5200 - acc: 0.8333 - val_loss: 0.3599 - val_acc: 0.8333\n",
      "Epoch 4/25\n",
      "12/12 [==============================] - 0s - loss: 0.4236 - acc: 0.8333 - val_loss: 0.4792 - val_acc: 0.7500\n",
      "Epoch 5/25\n",
      "12/12 [==============================] - 0s - loss: 0.0317 - acc: 1.0000 - val_loss: 0.3533 - val_acc: 0.8333\n",
      "Epoch 6/25\n",
      "12/12 [==============================] - 0s - loss: 0.0044 - acc: 1.0000 - val_loss: 0.3561 - val_acc: 0.8333\n",
      "Epoch 7/25\n",
      "12/12 [==============================] - 0s - loss: 0.1776 - acc: 0.9167 - val_loss: 2.6792 - val_acc: 0.5000\n",
      "Epoch 8/25\n",
      "12/12 [==============================] - 0s - loss: 0.0811 - acc: 0.9167 - val_loss: 0.9858 - val_acc: 0.6667\n",
      "Epoch 9/25\n",
      "12/12 [==============================] - 0s - loss: 0.0100 - acc: 1.0000 - val_loss: 0.3601 - val_acc: 0.8333\n",
      "Epoch 10/25\n",
      "12/12 [==============================] - 0s - loss: 1.3927e-04 - acc: 1.0000 - val_loss: 0.3598 - val_acc: 0.8333\n",
      "Epoch 11/25\n",
      "12/12 [==============================] - 0s - loss: 1.6929e-04 - acc: 1.0000 - val_loss: 0.3554 - val_acc: 0.8333\n",
      "Epoch 12/25\n",
      "12/12 [==============================] - 0s - loss: 8.9281e-04 - acc: 1.0000 - val_loss: 0.3732 - val_acc: 0.7500\n",
      "Epoch 13/25\n",
      "12/12 [==============================] - 0s - loss: 1.7125e-04 - acc: 1.0000 - val_loss: 0.3621 - val_acc: 0.8333\n",
      "Epoch 14/25\n",
      "12/12 [==============================] - 0s - loss: 1.0448e-05 - acc: 1.0000 - val_loss: 0.3605 - val_acc: 0.8333\n",
      "Epoch 15/25\n",
      "12/12 [==============================] - 0s - loss: 1.2970e-04 - acc: 1.0000 - val_loss: 0.3829 - val_acc: 0.7500\n",
      "Epoch 16/25\n",
      "12/12 [==============================] - 0s - loss: 5.3263e-04 - acc: 1.0000 - val_loss: 0.3365 - val_acc: 0.8333\n",
      "Epoch 17/25\n",
      "12/12 [==============================] - 0s - loss: 0.0052 - acc: 1.0000 - val_loss: 0.3504 - val_acc: 0.7500\n",
      "Epoch 18/25\n",
      "12/12 [==============================] - 0s - loss: 2.1575e-04 - acc: 1.0000 - val_loss: 0.3970 - val_acc: 0.8333\n",
      "Epoch 19/25\n",
      "12/12 [==============================] - 0s - loss: 8.8683e-07 - acc: 1.0000 - val_loss: 0.3971 - val_acc: 0.8333\n",
      "Epoch 20/25\n",
      "12/12 [==============================] - 0s - loss: 3.3249e-05 - acc: 1.0000 - val_loss: 0.4189 - val_acc: 0.8333\n",
      "Epoch 21/25\n",
      "12/12 [==============================] - 0s - loss: 1.4384e-05 - acc: 1.0000 - val_loss: 0.3894 - val_acc: 0.8333\n",
      "Epoch 22/25\n",
      "12/12 [==============================] - 0s - loss: 1.4285e-05 - acc: 1.0000 - val_loss: 0.4476 - val_acc: 0.8333\n",
      "Epoch 23/25\n",
      "12/12 [==============================] - 0s - loss: 4.8753e-05 - acc: 1.0000 - val_loss: 0.3445 - val_acc: 0.7500\n",
      "Epoch 24/25\n",
      "12/12 [==============================] - 0s - loss: 5.6039e-06 - acc: 1.0000 - val_loss: 0.3654 - val_acc: 0.7500\n",
      "Epoch 25/25\n",
      "12/12 [==============================] - 0s - loss: 4.4760e-06 - acc: 1.0000 - val_loss: 0.3866 - val_acc: 0.8333\n"
     ]
    }
   ],
   "source": [
    "save_bottlebeck_features()\n",
    "train_top_model()"
   ]
  },
  {
   "cell_type": "code",
   "execution_count": null,
   "metadata": {
    "collapsed": true
   },
   "outputs": [],
   "source": []
  }
 ],
 "metadata": {
  "anaconda-cloud": {},
  "kernelspec": {
   "display_name": "Python [conda root]",
   "language": "python",
   "name": "conda-root-py"
  },
  "language_info": {
   "codemirror_mode": {
    "name": "ipython",
    "version": 2
   },
   "file_extension": ".py",
   "mimetype": "text/x-python",
   "name": "python",
   "nbconvert_exporter": "python",
   "pygments_lexer": "ipython2",
   "version": "2.7.12"
  }
 },
 "nbformat": 4,
 "nbformat_minor": 1
}
